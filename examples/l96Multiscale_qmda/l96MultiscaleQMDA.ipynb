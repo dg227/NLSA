{
 "cells": [
  {
   "cell_type": "markdown",
   "id": "6900594e-cd2a-4e8f-89a4-cc52f28e3563",
   "metadata": {},
   "source": [
    "# Quantum mechanical data assimilation of Lorenz 96 multiscale"
   ]
  },
  {
   "cell_type": "code",
   "execution_count": 1,
   "id": "3bafbb22-b46d-48aa-ac82-177ea1b46643",
   "metadata": {},
   "outputs": [
    {
     "name": "stderr",
     "output_type": "stream",
     "text": [
      "Version 1.0.4\n"
     ]
    }
   ],
   "source": [
    "%load_ext nb_mypy\n",
    "%nb_mypy On\n",
    "    \n",
    "%matplotlib ipympl"
   ]
  },
  {
   "cell_type": "code",
   "execution_count": 2,
   "id": "9829ca52-7add-473c-8219-fbc3737356f4",
   "metadata": {},
   "outputs": [],
   "source": [
    "import matplotlib.pyplot as plt\n",
    "import nlsa.function_algebra as fun\n",
    "import nlsa.matrix_algebra as mat\n",
    "import nlsa.vector_algebra as vec\n",
    "import numpy as np\n",
    "import scipy.linalg as la\n",
    "\n",
    "from dataclasses import dataclass\n",
    "from functools import partial\n",
    "from ipywidgets import interact, IntSlider\n",
    "from itertools import islice\n",
    "from mat73 import loadmat\n",
    "from more_itertools import take\n",
    "from multiprocess import Pool\n",
    "from nlsa.abstract_algebra import id_map, iterate, multiply_by\n",
    "from nlsa.dynamics import cocycle_orbit\n",
    "from nlsa.function_algebra import compose, compose2\n",
    "from nlsa.qmda import make_da, pure_state_prediction, Qmda\n",
    "from nlsa.quantum_circuits import ensemble_measurement, koopman_circuit\n",
    "from os.path import join\n",
    "from typing import TypeVar\n",
    "from nptyping import Int, NDArray, Shape"
   ]
  },
  {
   "cell_type": "code",
   "execution_count": 3,
   "id": "4d49503f-473f-4b7a-ba5c-9987f6c941cd",
   "metadata": {},
   "outputs": [],
   "source": [
    "@dataclass\n",
    "class Nlsa:\n",
    "    \"\"\"Class for keeping track of NLSA parameters for L96 multiscale system.\n",
    "    \n",
    "    \"\"\"\n",
    "    # Parameters to be set by user\n",
    "    F: float # Forcing parameter\n",
    "    epsilon: float # Timesscale parameter for fast variables\n",
    "    dt: float # Sampling interval\n",
    "    nS: int # Number of training samples\n",
    "    nSOut: int # Number of test samples\n",
    "    idxXSrc: NDArray[Shape[\"NX\"], Int] # State vector components to use for training \n",
    "    idxXObs: NDArray[Shape[\"NXO\"], Int] # State vector components for observations\n",
    "    embWindow: int # Delay embedding window\n",
    "    kernel: str # Kernel type\n",
    "    ifDen: bool # Set true to use variable-bandwidth kernel  \n",
    "    \n",
    "    # Parameters with default values\n",
    "    nX: int = 9 # slow variables\n",
    "    nY: int = 8 # fast variables\n",
    "    hX: float = -0.8 # Coupling parameter from slow to fast variables\n",
    "    hY: float = 1.0 # Coupling parameter from fast to slow variables    \n",
    "    nSSpin: int = 10000 # Number of spinup samples\n",
    "    x0: float  = 1     # Initial conditions for slow variables (training data)\n",
    "    y0: float  = 1     # Initial conditions for fast variables (training data)\n",
    "    x0Out: float = 1.2  # Initial conditions for slow variables (test data)\n",
    "    y0Out: float = 1.2  # Initial conditions for fast variables (test data)\n",
    "    absTol: float = 1E-7 # Absolute tolerance for ODE solver\n",
    "    relTol: float = 1E-5 # Relative tolerance for ODE solver\n",
    "        \n",
    "    \n",
    "    def tag(self) -> str:\n",
    "        s = f'F{self.F:.1f}'\\\n",
    "          + f'_eps{self.epsilon:.3g}'\\\n",
    "          + f'_dt{self.dt:.2g}'\\\n",
    "          + f'_nS{self.nS}'\\\n",
    "          + f'_nSOut{self.nSOut}'\\\n",
    "          + f'_idxXSrc1-+1-{self.idxXSrc[-1]}'\\\n",
    "          + f'_idxXObs1-+1-{self.idxXObs[-1]}'\\\n",
    "          + f'_emb{self.embWindow}'\\\n",
    "          + '_' + self.kernel\n",
    "        if self.ifDen:\n",
    "            s += '_den'\n",
    "        return s"
   ]
  },
  {
   "cell_type": "code",
   "execution_count": 4,
   "id": "504ec33d-051d-4e58-bc56-c4c7daffba52",
   "metadata": {},
   "outputs": [],
   "source": [
    "#Set up NLSA and QMDA parameters\n",
    "nlsa_model = Nlsa(F=10,\n",
    "                  epsilon=1 / 128,\n",
    "                  dt=0.05,\n",
    "                  nS=40000,\n",
    "                  nSOut=7000,\n",
    "                  idxXSrc=np.arange(1, 9 + 1),\n",
    "                  idxXObs=np.arange(1, 9 + 1),\n",
    "                  embWindow=1,\n",
    "                  kernel='l2',\n",
    "                  ifDen=True)\n",
    "\n",
    "qmda_model =Qmda(nTO=1,\n",
    "                 nTF=100, \n",
    "                 nL=1024, \n",
    "                 shape_fun=\"bump\", \n",
    "                 epsilon=0.6)"
   ]
  },
  {
   "cell_type": "code",
   "execution_count": 5,
   "id": "c1f949ea-048f-462a-8713-4e7846a3acfe",
   "metadata": {},
   "outputs": [],
   "source": [
    "# import data\n",
    "path = './figs'\n",
    "path = join(path, nlsa_model.tag(), qmda_model.tag())\n",
    "\n",
    "qmda_data = \\\n",
    "    {'u': loadmat(join(path, 'u.mat'), only_include='U_sav')['U_sav'],\n",
    "     'm': loadmat(join(path, 'm.mat'), only_include='M')['M'],\n",
    "     'm_eval': loadmat(join(path, 'm.mat'), only_include='MEval')['MEval'],\n",
    "     'm_evec': loadmat(join(path, 'm.mat'), only_include='MEvec')['MEvec'],\n",
    "     'k': loadmat(join(path, 'k.mat'), only_include='K_sav')['K_sav'],\n",
    "     'y': loadmat(join(path, 'y.mat'), only_include='yRef')['yRef']\n",
    "    }"
   ]
  },
  {
   "cell_type": "code",
   "execution_count": 6,
   "id": "c9bf505d-b8de-432a-9f39-c0f4370031c3",
   "metadata": {},
   "outputs": [],
   "source": [
    "q = 10 # number of qubits\n",
    "n_obs = 200 # number of data assimilation observations\n",
    "n_pred = 100 # number of prediction timesteps\n",
    "\n",
    "n = 2 ** q\n",
    "\n",
    "u, _ = la.polar(qmda_data['u'][0:n, 0:n, 0])  # unitary Koopman matrix\n",
    "m = qmda_data['m'][0:n, 0:n] # multiplication operator matrix\n",
    "k = np.swapaxes(qmda_data['k'][0:n, 0:n, 0:n_obs], -1, 0) # array of feature operators\n",
    "y = qmda_data['y'][0:n_pred, 0:n_obs].T # reference trajectory"
   ]
  },
  {
   "cell_type": "code",
   "execution_count": 8,
   "id": "8320cc43-b178-4b7b-92bd-afa41a4bafef",
   "metadata": {},
   "outputs": [],
   "source": [
    "m_eval, m_evec = mat.eig_sorted(m) # multiplication operator eigenvalues\n",
    "m_evec, _ = la.polar(m_evec) # multiplication operator eigenvectors\n",
    "dy = np.empty(n)\n",
    "dy[1:-1] = (m_eval[2:] - m_eval[:-2]) / 2\n",
    "dy[0] = dy[1]\n",
    "dy[-1] = dy[-2]"
   ]
  },
  {
   "cell_type": "code",
   "execution_count": 9,
   "id": "c4a89c0f-92f8-48cb-bfc6-5d1ab2caff1a",
   "metadata": {},
   "outputs": [],
   "source": [
    "n_proc = 2 # number of parallel processes\n",
    "pl = Pool(n_proc)"
   ]
  },
  {
   "cell_type": "code",
   "execution_count": 10,
   "id": "d02bdafd-e66d-4c75-8ad7-c5ae5119ef4b",
   "metadata": {},
   "outputs": [
    {
     "name": "stderr",
     "output_type": "stream",
     "text": [
      "<cell>3: error: Name \"u\" is not defined\n"
     ]
    }
   ],
   "source": [
    "xi = np.concatenate((np.array([1]), np.zeros(n - 1)))\n",
    "\n",
    "transfer_mat = u.conj().T\n",
    "transfer_op = multiply_by(mat, transfer_mat)\n",
    "bayes = partial(vec.condition_by, mat)\n",
    "da = make_da(forecast=transfer_op, analysis=bayes)\n",
    "xi_da = take(n_obs, cocycle_orbit(xi, k, da))"
   ]
  },
  {
   "cell_type": "code",
   "execution_count": 11,
   "id": "31f606dd-2e78-4a66-b359-b89d6bc3fbec",
   "metadata": {},
   "outputs": [
    {
     "data": {
      "application/vnd.jupyter.widget-view+json": {
       "model_id": "b854d59c1eed40c6920c18371a1ce196",
       "version_major": 2,
       "version_minor": 0
      },
      "image/png": "[encoded data removed]",
      "text/html": [
       "\n",
       "            <div style=\"display: inline-block;\">\n",
       "                <div class=\"jupyter-widgets widget-label\" style=\"text-align: center;\">\n",
       "                    Figure\n",
       "                </div>\n",
       "                <img src='data:image/png;base64,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' width=640.0/>\n",
       "            </div>\n",
       "        "
      ],
      "text/plain": [
       "Canvas(toolbar=Toolbar(toolitems=[('Home', 'Reset original view', 'home', 'home'), ('Back', 'Back to previous …"
      ]
     },
     "metadata": {},
     "output_type": "display_data"
    }
   ],
   "source": [
    "circ = koopman_circuit(q, m_evec, transfer_mat, xi)\n",
    "\n",
    "i_fig = 1\n",
    "\n",
    "if plt.fignum_exists(i_fig):\n",
    "    plt.close(i_fig)\n",
    "    \n",
    "fig, ax = plt.subplots(num=i_fig)\n",
    "ax.cla()\n",
    "circ.draw(output='mpl', ax=ax)\n",
    "circ.draw(output='latex_source', filename='koopman_circuit.tex');"
   ]
  },
  {
   "cell_type": "code",
   "execution_count": 12,
   "id": "6e080082-0248-4c25-9555-f3e0ee0540cf",
   "metadata": {},
   "outputs": [],
   "source": [
    "j_ver = 150 # forecast verification timesetp\n",
    "max_lead = 15\n",
    "step_lead = 5\n",
    "\n",
    "j_lead = np.arange(0, max_lead + 1, step_lead)\n",
    "n_lead = len(j_lead)\n",
    "y_true = y[j_ver - 1, 0]"
   ]
  },
  {
   "cell_type": "code",
   "execution_count": 13,
   "id": "acd6ca0f-4a41-46b2-b51b-4b72b23c89e0",
   "metadata": {},
   "outputs": [],
   "source": [
    "predict_with_expectation = partial(pure_state_prediction, mat, m)\n",
    "\n",
    "transfer_mats = iterate(mat, transfer_mat, initial=np.identity(n)) \n",
    "xis = (xi_da[j_ver - j] for j in j_lead)\n",
    "exp_result = pl.starmap(predict_with_expectation, \n",
    "                        zip(islice(transfer_mats, 0, max_lead + 1, step_lead), \n",
    "                            xis))"
   ]
  },
  {
   "cell_type": "code",
   "execution_count": 14,
   "id": "6a5e3724-ef1a-4a86-95dc-02b820129c0f",
   "metadata": {},
   "outputs": [],
   "source": [
    "n_shots = 1E6\n",
    "\n",
    "make_circuit = partial(koopman_circuit, q, m_evec)\n",
    "make_measurement = partial(ensemble_measurement, shots=n_shots)\n",
    "predict_with_circuit = compose2(make_measurement, make_circuit)\n",
    "\n",
    "transfer_mats = iterate(mat, transfer_mat, initial=np.identity(n)) \n",
    "xis = (xi_da[j_ver - j] for j in j_lead)\n",
    "circ_pred = map(predict_with_circuit, \n",
    "                islice(transfer_mats, 0, max_lead + 1, step_lead), xis)\n",
    "circ_result = take(n_lead, circ_pred)"
   ]
  },
  {
   "cell_type": "code",
   "execution_count": 17,
   "id": "2964e800-f357-448d-b5f2-5711f7300024",
   "metadata": {},
   "outputs": [
    {
     "data": {
      "application/vnd.jupyter.widget-view+json": {
       "model_id": "3bed15f581d8461c9a24d8bd03bbefb3",
       "version_major": 2,
       "version_minor": 0
      },
      "text/plain": [
       "interactive(children=(IntSlider(value=0, continuous_update=False, description='i', max=3), Output()), _dom_cla…"
      ]
     },
     "metadata": {},
     "output_type": "display_data"
    },
    {
     "data": {
      "application/vnd.jupyter.widget-view+json": {
       "model_id": "9d2b11a59c72443e80e0a56e063307c4",
       "version_major": 2,
       "version_minor": 0
      },
      "image/png": "[encoded data removed]",
      "text/html": [
       "\n",
       "            <div style=\"display: inline-block;\">\n",
       "                <div class=\"jupyter-widgets widget-label\" style=\"text-align: center;\">\n",
       "                    Figure\n",
       "                </div>\n",
       "                <img src='data:image/png;base64,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' width=640.0/>\n",
       "            </div>\n",
       "        "
      ],
      "text/plain": [
       "Canvas(toolbar=Toolbar(toolitems=[('Home', 'Reset original view', 'home', 'home'), ('Back', 'Back to previous …"
      ]
     },
     "metadata": {},
     "output_type": "display_data"
    }
   ],
   "source": [
    "i_fig = 2\n",
    "\n",
    "if plt.fignum_exists(i_fig):\n",
    "    plt.close(i_fig)\n",
    "    \n",
    "fig, ax = plt.subplots(num=i_fig)\n",
    "\n",
    "i_slider = IntSlider(value=0, min=0, max=n_lead - 1, continuous_update=False)\n",
    "\n",
    "@interact(i=i_slider) \n",
    "def plot_result(i):\n",
    "    idx = circ_result[i][0]\n",
    "    density = circ_result[i][1]\n",
    "    density_dy = density / dy[idx]\n",
    "    circ_mean = np.sum(m_eval[idx] * density)\n",
    "    ax.cla()\n",
    "    ax.axvline(x=y_true, color='r', label=\"true value\")\n",
    "    ax.axvline(x=exp_result[i], color='m', linewidth=5, label=\"qm expectation\")\n",
    "    ax.axvline(x=circ_mean, color='y', label=\"circuit mean\")\n",
    "    ax.bar(m_eval[idx], density_dy, width=0.3)\n",
    "    ax.set_xlabel(\"$x_1$\")\n",
    "    ax.set_ylabel(\"circuit density\")\n",
    "    ax.set_title(f\"Lead time $t={j_lead[i] * nlsa_model.dt:.2f}$\")\n",
    "    ax.legend()\n",
    "    ax.grid()"
   ]
  },
  {
   "cell_type": "code",
   "execution_count": 25,
   "id": "14fc4ec9-9a4f-40a7-97c3-9420bd87da98",
   "metadata": {},
   "outputs": [
    {
     "name": "stdout",
     "output_type": "stream",
     "text": [
      "-1.875209416074642\n",
      "-1.9913476215865478\n",
      "-1.0855136464682578\n",
      "-0.38468786440103186\n",
      "0.46968483427994445\n"
     ]
    },
    {
     "data": {
      "application/vnd.jupyter.widget-view+json": {
       "model_id": "fc07d99dce664363b83c2a4ff8568a07",
       "version_major": 2,
       "version_minor": 0
      },
      "image/png": "[encoded data removed]",
      "text/html": [
       "\n",
       "            <div style=\"display: inline-block;\">\n",
       "                <div class=\"jupyter-widgets widget-label\" style=\"text-align: center;\">\n",
       "                    Figure\n",
       "                </div>\n",
       "                <img src='data:image/png;base64,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' width=900.0/>\n",
       "            </div>\n",
       "        "
      ],
      "text/plain": [
       "Canvas(toolbar=Toolbar(toolitems=[('Home', 'Reset original view', 'home', 'home'), ('Back', 'Back to previous …"
      ]
     },
     "metadata": {},
     "output_type": "display_data"
    }
   ],
   "source": [
    "i_fig = 3\n",
    "\n",
    "if plt.fignum_exists(i_fig):\n",
    "    plt.close(i_fig)\n",
    "\n",
    "fig, axs = plt.subplots(2, 2, figsize=(9, 7.2), subplot_kw=dict(box_aspect=0.75), \n",
    "                        num=i_fig, sharex=True, sharey=True,\n",
    "                        constrained_layout=True)\n",
    "\n",
    "print(y_true)\n",
    "for i, ax in enumerate(axs.flatten()):\n",
    "    idx = circ_result[i][0]\n",
    "    density = circ_result[i][1]\n",
    "    density_dy = density / dy[idx]\n",
    "    circ_mean = np.sum(m_eval[idx] * density)\n",
    "    print(circ_mean)\n",
    "    ax.cla()\n",
    "    ax.axvline(x=y_true, color='r', linewidth=1.5, label=\"true value\")\n",
    "    ax.axvline(x=circ_mean, color='y', linewidth=1.5, label=\"circuit mean\")\n",
    "    ax.bar(m_eval[idx], density_dy, width=0.3)\n",
    "    ax.set_axisbelow(True)\n",
    "    ax.set_title(f\"Lead time $\\\\tau={j_lead[i] * nlsa_model.dt:.2f}$\")\n",
    "    ax.grid()\n",
    "    \n",
    "axs[0, 0].legend()\n",
    "\n",
    "for ax in axs[:, 0]:\n",
    "    ax.set_ylabel(\"circuit density\")\n",
    "    \n",
    "for ax in axs[-1, :]:\n",
    "    ax.set_xlabel(\"$x_1$\")\n",
    "    \n",
    "plt.savefig('figCircuitPred.png', format='png', dpi=300)"
   ]
  },
  {
   "cell_type": "code",
   "execution_count": 32,
   "id": "ae55a4df-8ec6-4332-8ce0-5374802a2abd",
   "metadata": {},
   "outputs": [
    {
     "data": {
      "text/plain": [
       "array([<AxesSubplot: >, <AxesSubplot: >], dtype=object)"
      ]
     },
     "execution_count": 32,
     "metadata": {},
     "output_type": "execute_result"
    }
   ],
   "source": [
    "fig, axs = plt.subplots(2, 2, num=i_fig, constrained_layout=True, sharex=True,\n",
    "                        sharey=True)\n",
    "axs[0]"
   ]
  },
  {
   "cell_type": "code",
   "execution_count": null,
   "id": "b884bc7e-fcd5-4417-b056-38cfb594f448",
   "metadata": {},
   "outputs": [],
   "source": [
    "\n",
    "pred = make_pure_state_prediction(mat, m) # maps xi -> float\n",
    "preds = partial(map, pred) # maps [xi] -> [pred(xi)]\n",
    "statevec_orb = partial(orbit, f=transfer_op) # maps xi -> [xi] (infinite orbit)\n",
    "pred_orb = compose(preds, statevec_orb) # maps xi -> [pred(xi)] (infinite orbit)\n",
    "pred_fin = compose(partial(take, n_pred), pred_orb) # maps xi -> first n elements of [pred(xi)]\n",
    "\n",
    "y_da = pl.map(pred_fin, xi_da)\n",
    "\n",
    "y_pred = np.array([y_da[j_ver - j][j] for j in range(n_lead)])"
   ]
  }
 ],
 "metadata": {
  "kernelspec": {
   "display_name": "Python 3 (ipykernel)",
   "language": "python",
   "name": "python3"
  },
  "language_info": {
   "codemirror_mode": {
    "name": "ipython",
    "version": 3
   },
   "file_extension": ".py",
   "mimetype": "text/x-python",
   "name": "python",
   "nbconvert_exporter": "python",
   "pygments_lexer": "ipython3",
   "version": "3.10.9"
  },
  "widgets": {
   "application/vnd.jupyter.widget-state+json": {
    "state": {
     "05b961a1a6e24565be5436e5d079d278": {
      "model_module": "jupyter-matplotlib",
      "model_module_version": "^0.11",
      "model_name": "ToolbarModel",
      "state": {
       "_model_module_version": "^0.11",
       "_view_module_version": "^0.11",
       "collapsed": true,
       "layout": "IPY_MODEL_37f4c315ff22448d835f5b3b69c83c6e",
       "orientation": "vertical",
       "toolitems": [
        [
         "Home",
         "Reset original view",
         "home",
         "home"
        ],
        [
         "Back",
         "Back to previous view",
         "arrow-left",
         "back"
        ],
        [
         "Forward",
         "Forward to next view",
         "arrow-right",
         "forward"
        ],
        [
         "Pan",
         "Left button pans, Right button zooms\nx/y fixes axis, CTRL fixes aspect",
         "arrows",
         "pan"
        ],
        [
         "Zoom",
         "Zoom to rectangle\nx/y fixes axis",
         "square-o",
         "zoom"
        ],
        [
         "Download",
         "Download plot",
         "floppy-o",
         "save_figure"
        ]
       ]
      }
     },
     "061fd9537a624bcfb549a3c710c8f4d2": {
      "model_module": "jupyter-matplotlib",
      "model_module_version": "^0.11",
      "model_name": "ToolbarModel",
      "state": {
       "_model_module_version": "^0.11",
       "_view_module_version": "^0.11",
       "collapsed": true,
       "layout": "IPY_MODEL_e9a6b8d4b2514cca932bae5a58de13e0",
       "orientation": "vertical",
       "toolitems": [
        [
         "Home",
         "Reset original view",
         "home",
         "home"
        ],
        [
         "Back",
         "Back to previous view",
         "arrow-left",
         "back"
        ],
        [
         "Forward",
         "Forward to next view",
         "arrow-right",
         "forward"
        ],
        [
         "Pan",
         "Left button pans, Right button zooms\nx/y fixes axis, CTRL fixes aspect",
         "arrows",
         "pan"
        ],
        [
         "Zoom",
         "Zoom to rectangle\nx/y fixes axis",
         "square-o",
         "zoom"
        ],
        [
         "Download",
         "Download plot",
         "floppy-o",
         "save_figure"
        ]
       ]
      }
     },
     "1902cc9d87ad4634967ed29d7f83cb99": {
      "model_module": "jupyter-matplotlib",
      "model_module_version": "^0.11",
      "model_name": "ToolbarModel",
      "state": {
       "_model_module_version": "^0.11",
       "_view_module_version": "^0.11",
       "collapsed": true,
       "layout": "IPY_MODEL_b2d219e38fc040b08c78f3586c603cc7",
       "orientation": "vertical",
       "toolitems": [
        [
         "Home",
         "Reset original view",
         "home",
         "home"
        ],
        [
         "Back",
         "Back to previous view",
         "arrow-left",
         "back"
        ],
        [
         "Forward",
         "Forward to next view",
         "arrow-right",
         "forward"
        ],
        [
         "Pan",
         "Left button pans, Right button zooms\nx/y fixes axis, CTRL fixes aspect",
         "arrows",
         "pan"
        ],
        [
         "Zoom",
         "Zoom to rectangle\nx/y fixes axis",
         "square-o",
         "zoom"
        ],
        [
         "Download",
         "Download plot",
         "floppy-o",
         "save_figure"
        ]
       ]
      }
     },
     "1aa766da06044c93b0d410948a2d3310": {
      "model_module": "jupyter-matplotlib",
      "model_module_version": "^0.11",
      "model_name": "ToolbarModel",
      "state": {
       "_model_module_version": "^0.11",
       "_view_module_version": "^0.11",
       "collapsed": true,
       "layout": "IPY_MODEL_4da0028b47ee45d6bce2d94af668a302",
       "orientation": "vertical",
       "toolitems": [
        [
         "Home",
         "Reset original view",
         "home",
         "home"
        ],
        [
         "Back",
         "Back to previous view",
         "arrow-left",
         "back"
        ],
        [
         "Forward",
         "Forward to next view",
         "arrow-right",
         "forward"
        ],
        [
         "Pan",
         "Left button pans, Right button zooms\nx/y fixes axis, CTRL fixes aspect",
         "arrows",
         "pan"
        ],
        [
         "Zoom",
         "Zoom to rectangle\nx/y fixes axis",
         "square-o",
         "zoom"
        ],
        [
         "Download",
         "Download plot",
         "floppy-o",
         "save_figure"
        ]
       ]
      }
     },
     "2571eba797cb4fd08bfbaa1497839ad0": {
      "model_module": "@jupyter-widgets/base",
      "model_module_version": "2.0.0",
      "model_name": "LayoutModel",
      "state": {}
     },
     "317a7ea1b2304298945e014899e7af43": {
      "model_module": "@jupyter-widgets/controls",
      "model_module_version": "2.0.0",
      "model_name": "VBoxModel",
      "state": {
       "_dom_classes": [
        "widget-interact"
       ],
       "children": [
        "IPY_MODEL_71fd1771696b4ab58e677e4c62624589",
        "IPY_MODEL_f1f3f4afacb9431e8a19a7f018ff34f2"
       ],
       "layout": "IPY_MODEL_cf6b7a4a433f4368812cef440e84dce7"
      }
     },
     "3726183dd9da42a8bf7005f4890c77cb": {
      "model_module": "@jupyter-widgets/base",
      "model_module_version": "2.0.0",
      "model_name": "LayoutModel",
      "state": {}
     },
     "37f4c315ff22448d835f5b3b69c83c6e": {
      "model_module": "@jupyter-widgets/base",
      "model_module_version": "2.0.0",
      "model_name": "LayoutModel",
      "state": {}
     },
     "3b24dbfef30b42cc8a23d7fa2e8c5f57": {
      "model_module": "@jupyter-widgets/base",
      "model_module_version": "2.0.0",
      "model_name": "LayoutModel",
      "state": {}
     },
     "3c166bad78cb4d91a2645e80481dce92": {
      "model_module": "jupyter-matplotlib",
      "model_module_version": "^0.11",
      "model_name": "ToolbarModel",
      "state": {
       "_model_module_version": "^0.11",
       "_view_module_version": "^0.11",
       "collapsed": true,
       "layout": "IPY_MODEL_bd32bc6c159f4b599c1a0d4a6351e8fd",
       "orientation": "vertical",
       "toolitems": [
        [
         "Home",
         "Reset original view",
         "home",
         "home"
        ],
        [
         "Back",
         "Back to previous view",
         "arrow-left",
         "back"
        ],
        [
         "Forward",
         "Forward to next view",
         "arrow-right",
         "forward"
        ],
        [
         "Pan",
         "Left button pans, Right button zooms\nx/y fixes axis, CTRL fixes aspect",
         "arrows",
         "pan"
        ],
        [
         "Zoom",
         "Zoom to rectangle\nx/y fixes axis",
         "square-o",
         "zoom"
        ],
        [
         "Download",
         "Download plot",
         "floppy-o",
         "save_figure"
        ]
       ]
      }
     },
     "445aaac70c1a4fd0a85a699d21ce2cf1": {
      "model_module": "jupyter-matplotlib",
      "model_module_version": "^0.11",
      "model_name": "ToolbarModel",
      "state": {
       "_model_module_version": "^0.11",
       "_view_module_version": "^0.11",
       "collapsed": true,
       "layout": "IPY_MODEL_3726183dd9da42a8bf7005f4890c77cb",
       "orientation": "vertical",
       "toolitems": [
        [
         "Home",
         "Reset original view",
         "home",
         "home"
        ],
        [
         "Back",
         "Back to previous view",
         "arrow-left",
         "back"
        ],
        [
         "Forward",
         "Forward to next view",
         "arrow-right",
         "forward"
        ],
        [
         "Pan",
         "Left button pans, Right button zooms\nx/y fixes axis, CTRL fixes aspect",
         "arrows",
         "pan"
        ],
        [
         "Zoom",
         "Zoom to rectangle\nx/y fixes axis",
         "square-o",
         "zoom"
        ],
        [
         "Download",
         "Download plot",
         "floppy-o",
         "save_figure"
        ]
       ]
      }
     },
     "4da0028b47ee45d6bce2d94af668a302": {
      "model_module": "@jupyter-widgets/base",
      "model_module_version": "2.0.0",
      "model_name": "LayoutModel",
      "state": {}
     },
     "58a89effef3d41c4854687adcfda78ab": {
      "model_module": "@jupyter-widgets/output",
      "model_module_version": "1.0.0",
      "model_name": "OutputModel",
      "state": {
       "layout": "IPY_MODEL_819069293aa4458493173330880f3573"
      }
     },
     "5ac390bae5cd44c19f7ea76930b18cb9": {
      "model_module": "@jupyter-widgets/base",
      "model_module_version": "2.0.0",
      "model_name": "LayoutModel",
      "state": {}
     },
     "64b2ff2d71ed4d38a60b5746a0b73213": {
      "model_module": "@jupyter-widgets/base",
      "model_module_version": "2.0.0",
      "model_name": "LayoutModel",
      "state": {}
     },
     "6c65a8f61e0f4f0485c54a6322d64d3e": {
      "model_module": "@jupyter-widgets/base",
      "model_module_version": "2.0.0",
      "model_name": "LayoutModel",
      "state": {}
     },
     "71fd1771696b4ab58e677e4c62624589": {
      "model_module": "@jupyter-widgets/controls",
      "model_module_version": "2.0.0",
      "model_name": "IntSliderModel",
      "state": {
       "behavior": "drag-tap",
       "continuous_update": false,
       "description": "i",
       "layout": "IPY_MODEL_93ead24a49ec46e8a850cf23f108d608",
       "max": 3,
       "style": "IPY_MODEL_fe09c934108b44efba59bf28a4502ddd"
      }
     },
     "7e5dbe62c2fe411f9d47d5b768ecf3a2": {
      "model_module": "@jupyter-widgets/base",
      "model_module_version": "2.0.0",
      "model_name": "LayoutModel",
      "state": {}
     },
     "819069293aa4458493173330880f3573": {
      "model_module": "@jupyter-widgets/base",
      "model_module_version": "2.0.0",
      "model_name": "LayoutModel",
      "state": {}
     },
     "8c6ac404f45946ee9b7be43b4c00c5c8": {
      "model_module": "@jupyter-widgets/base",
      "model_module_version": "2.0.0",
      "model_name": "LayoutModel",
      "state": {}
     },
     "93ead24a49ec46e8a850cf23f108d608": {
      "model_module": "@jupyter-widgets/base",
      "model_module_version": "2.0.0",
      "model_name": "LayoutModel",
      "state": {}
     },
     "9ffd7cc8907442f2beaa9bd6a643cbab": {
      "model_module": "@jupyter-widgets/base",
      "model_module_version": "2.0.0",
      "model_name": "LayoutModel",
      "state": {}
     },
     "a5624a42036948e7999469fc4ff40cc0": {
      "model_module": "jupyter-matplotlib",
      "model_module_version": "^0.11",
      "model_name": "ToolbarModel",
      "state": {
       "_model_module_version": "^0.11",
       "_view_module_version": "^0.11",
       "collapsed": true,
       "layout": "IPY_MODEL_2571eba797cb4fd08bfbaa1497839ad0",
       "orientation": "vertical",
       "toolitems": [
        [
         "Home",
         "Reset original view",
         "home",
         "home"
        ],
        [
         "Back",
         "Back to previous view",
         "arrow-left",
         "back"
        ],
        [
         "Forward",
         "Forward to next view",
         "arrow-right",
         "forward"
        ],
        [
         "Pan",
         "Left button pans, Right button zooms\nx/y fixes axis, CTRL fixes aspect",
         "arrows",
         "pan"
        ],
        [
         "Zoom",
         "Zoom to rectangle\nx/y fixes axis",
         "square-o",
         "zoom"
        ],
        [
         "Download",
         "Download plot",
         "floppy-o",
         "save_figure"
        ]
       ]
      }
     },
     "b2d219e38fc040b08c78f3586c603cc7": {
      "model_module": "@jupyter-widgets/base",
      "model_module_version": "2.0.0",
      "model_name": "LayoutModel",
      "state": {}
     },
     "b9a909f701d64468b84b5f945d0b3a32": {
      "model_module": "@jupyter-widgets/controls",
      "model_module_version": "2.0.0",
      "model_name": "SliderStyleModel",
      "state": {
       "description_width": ""
      }
     },
     "bd32bc6c159f4b599c1a0d4a6351e8fd": {
      "model_module": "@jupyter-widgets/base",
      "model_module_version": "2.0.0",
      "model_name": "LayoutModel",
      "state": {}
     },
     "bd46f23880b0442bbae09f22ed52991e": {
      "model_module": "@jupyter-widgets/controls",
      "model_module_version": "2.0.0",
      "model_name": "VBoxModel",
      "state": {
       "_dom_classes": [
        "widget-interact"
       ],
       "children": [
        "IPY_MODEL_e7487d8d85874ae8a9879181e8c1652b",
        "IPY_MODEL_58a89effef3d41c4854687adcfda78ab"
       ],
       "layout": "IPY_MODEL_8c6ac404f45946ee9b7be43b4c00c5c8"
      }
     },
     "c30176ded14042d6b572a70b5dd624c0": {
      "model_module": "@jupyter-widgets/base",
      "model_module_version": "2.0.0",
      "model_name": "LayoutModel",
      "state": {}
     },
     "cf6b7a4a433f4368812cef440e84dce7": {
      "model_module": "@jupyter-widgets/base",
      "model_module_version": "2.0.0",
      "model_name": "LayoutModel",
      "state": {}
     },
     "d8d44e52dda14966a4c0490a9aa72cef": {
      "model_module": "@jupyter-widgets/base",
      "model_module_version": "2.0.0",
      "model_name": "LayoutModel",
      "state": {}
     },
     "e7487d8d85874ae8a9879181e8c1652b": {
      "model_module": "@jupyter-widgets/controls",
      "model_module_version": "2.0.0",
      "model_name": "IntSliderModel",
      "state": {
       "behavior": "drag-tap",
       "continuous_update": false,
       "description": "i",
       "layout": "IPY_MODEL_7e5dbe62c2fe411f9d47d5b768ecf3a2",
       "max": 3,
       "style": "IPY_MODEL_b9a909f701d64468b84b5f945d0b3a32",
       "value": 3
      }
     },
     "e9509355f7e74ff5a2820f7e1ca2eb32": {
      "model_module": "@jupyter-widgets/base",
      "model_module_version": "2.0.0",
      "model_name": "LayoutModel",
      "state": {}
     },
     "e9a6b8d4b2514cca932bae5a58de13e0": {
      "model_module": "@jupyter-widgets/base",
      "model_module_version": "2.0.0",
      "model_name": "LayoutModel",
      "state": {}
     },
     "f1f3f4afacb9431e8a19a7f018ff34f2": {
      "model_module": "@jupyter-widgets/output",
      "model_module_version": "1.0.0",
      "model_name": "OutputModel",
      "state": {
       "layout": "IPY_MODEL_f202bf18afaf41d6997b44585fefdef8"
      }
     },
     "f202bf18afaf41d6997b44585fefdef8": {
      "model_module": "@jupyter-widgets/base",
      "model_module_version": "2.0.0",
      "model_name": "LayoutModel",
      "state": {}
     },
     "f23035dd788543fe8d62ee621c94aac5": {
      "model_module": "jupyter-matplotlib",
      "model_module_version": "^0.11",
      "model_name": "ToolbarModel",
      "state": {
       "_model_module_version": "^0.11",
       "_view_module_version": "^0.11",
       "collapsed": true,
       "layout": "IPY_MODEL_c30176ded14042d6b572a70b5dd624c0",
       "orientation": "vertical",
       "toolitems": [
        [
         "Home",
         "Reset original view",
         "home",
         "home"
        ],
        [
         "Back",
         "Back to previous view",
         "arrow-left",
         "back"
        ],
        [
         "Forward",
         "Forward to next view",
         "arrow-right",
         "forward"
        ],
        [
         "Pan",
         "Left button pans, Right button zooms\nx/y fixes axis, CTRL fixes aspect",
         "arrows",
         "pan"
        ],
        [
         "Zoom",
         "Zoom to rectangle\nx/y fixes axis",
         "square-o",
         "zoom"
        ],
        [
         "Download",
         "Download plot",
         "floppy-o",
         "save_figure"
        ]
       ]
      }
     },
     "fc0bf7d66de0412db1d2e8acd39df4c1": {
      "model_module": "@jupyter-widgets/base",
      "model_module_version": "2.0.0",
      "model_name": "LayoutModel",
      "state": {}
     },
     "fe09c934108b44efba59bf28a4502ddd": {
      "model_module": "@jupyter-widgets/controls",
      "model_module_version": "2.0.0",
      "model_name": "SliderStyleModel",
      "state": {
       "description_width": ""
      }
     }
    },
    "version_major": 2,
    "version_minor": 0
   }
  }
 },
 "nbformat": 4,
 "nbformat_minor": 5
}
