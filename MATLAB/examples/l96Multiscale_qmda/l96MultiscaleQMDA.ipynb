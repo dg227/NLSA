{
 "cells": [
  {
   "cell_type": "markdown",
   "id": "6900594e-cd2a-4e8f-89a4-cc52f28e3563",
   "metadata": {},
   "source": [
    "# Quantum mechanical data assimilation of the Lorenz 96 multiscale model\n",
    "\n",
    "In this notebook, we perform quantum mechanical data assimilation (QMDA) of the Lorenz L96 (L96) multiscale system with a simulated quantum circuit implemented in the Qiskit Aer library. The notebook reproduces the quantum circuit results in Figs. 6 and 7 of Freeman et al. (2023), \"Data assimilation in operator algebras\", *PNAS*, [doi:10.1073/pnas.2211115](https://dx.doi.org/10.1073/pnas.2211115). Running the notebook requires installation of the NLSA package provided in the directory `/Python` of the repository. See `/Python/README.md` for installation instructions. \n",
    "\n",
    "The notebook makes use of output generated from the MATLAB script `l96Multiscale_qmda.m` in this directory. `l96Multiscale_qmda` generates training and test data and computes data-driven basis functions using the MATLAB NLSA code. Using the basis, it computes the matrix representation of the Koopman operator, multiplication operator representing the forecast observable, and the matrix-valued feature map which are used by the quantum circuit implementation in this notebook. The NLSA and QMDA parameters used in the notebook must therefore match the corresponding parameters used in the MATLAB code."
   ]
  },
  {
   "cell_type": "code",
   "execution_count": 1,
   "id": "3bafbb22-b46d-48aa-ac82-177ea1b46643",
   "metadata": {},
   "outputs": [
    {
     "name": "stderr",
     "output_type": "stream",
     "text": [
      "Version 1.0.4\n"
     ]
    }
   ],
   "source": [
    "%load_ext nb_mypy\n",
    "%nb_mypy Off\n",
    "    \n",
    "%matplotlib ipympl"
   ]
  },
  {
   "cell_type": "code",
   "execution_count": 2,
   "id": "9829ca52-7add-473c-8219-fbc3737356f4",
   "metadata": {},
   "outputs": [],
   "source": [
    "import matplotlib.pyplot as plt\n",
    "import nlsa.function_algebra as fun\n",
    "import nlsa.matrix_algebra as mat\n",
    "import nlsa.vector_algebra as vec\n",
    "import numpy as np\n",
    "import scipy.linalg as la\n",
    "\n",
    "from dataclasses import dataclass\n",
    "from functools import partial\n",
    "from ipywidgets import interact, IntSlider\n",
    "from itertools import islice\n",
    "from mat73 import loadmat\n",
    "from more_itertools import take\n",
    "from multiprocess import Pool\n",
    "from nlsa.abstract_algebra import id_map, iterate, multiply_by\n",
    "from nlsa.dynamics import cocycle_orbit\n",
    "from nlsa.function_algebra import compose, compose2\n",
    "from nlsa.qmda import make_da, pure_state_prediction, Qmda\n",
    "from nlsa.quantum_circuits import ensemble_measurement, koopman_circuit\n",
    "from os.path import join\n",
    "from typing import TypeVar\n",
    "from nptyping import Int, NDArray, Shape"
   ]
  },
  {
   "cell_type": "markdown",
   "id": "fdff6901-4fb4-4bd9-95a3-baf7e28202d6",
   "metadata": {},
   "source": [
    "## Data preparation\n",
    "\n",
    "First, we read in the matrix representations of the Koopman operator (`u`), multiplication operator for the forecast observable (`m`), operator-valued feature map at the observed data (`k`), and true values of the forecast observable (`y`). Note that we pass the Koopman operator matrix `u` through the polar decomposition in order to produce a unitary evolution matrix as required by a closed quantum circuit. We also compute an eigendecomposition of the observable matrix `m` which is needed to compute forecast probability distributions. "
   ]
  },
  {
   "cell_type": "code",
   "execution_count": 3,
   "id": "4d49503f-473f-4b7a-ba5c-9987f6c941cd",
   "metadata": {},
   "outputs": [],
   "source": [
    "@dataclass\n",
    "class Nlsa:\n",
    "    \"\"\"Class for keeping track of NLSA parameters for L96 multiscale system.\n",
    "    \n",
    "    \"\"\"\n",
    "    # Parameters to be set by user\n",
    "    F: float # Forcing parameter\n",
    "    epsilon: float # Timesscale parameter for fast variables\n",
    "    dt: float # Sampling interval\n",
    "    nS: int # Number of training samples\n",
    "    nSOut: int # Number of test samples\n",
    "    idxXSrc: NDArray[Shape[\"NX\"], Int] # State vector components to use for training \n",
    "    idxXObs: NDArray[Shape[\"NXO\"], Int] # State vector components for observations\n",
    "    embWindow: int # Delay embedding window\n",
    "    kernel: str # Kernel type\n",
    "    ifDen: bool # Set true to use variable-bandwidth kernel  \n",
    "    \n",
    "    # Parameters with default values\n",
    "    nX: int = 9 # slow variables\n",
    "    nY: int = 8 # fast variables\n",
    "    hX: float = -0.8 # Coupling parameter from slow to fast variables\n",
    "    hY: float = 1.0 # Coupling parameter from fast to slow variables    \n",
    "    nSSpin: int = 10000 # Number of spinup samples\n",
    "    x0: float  = 1     # Initial conditions for slow variables (training data)\n",
    "    y0: float  = 1     # Initial conditions for fast variables (training data)\n",
    "    x0Out: float = 1.2  # Initial conditions for slow variables (test data)\n",
    "    y0Out: float = 1.2  # Initial conditions for fast variables (test data)\n",
    "    absTol: float = 1E-7 # Absolute tolerance for ODE solver\n",
    "    relTol: float = 1E-5 # Relative tolerance for ODE solver\n",
    "        \n",
    "    \n",
    "    def tag(self) -> str:\n",
    "        s = f'F{self.F:.1f}'\\\n",
    "          + f'_eps{self.epsilon:.3g}'\\\n",
    "          + f'_dt{self.dt:.2g}'\\\n",
    "          + f'_nS{self.nS}'\\\n",
    "          + f'_nSOut{self.nSOut}'\\\n",
    "          + f'_idxXSrc1-+1-{self.idxXSrc[-1]}'\\\n",
    "          + f'_idxXObs1-+1-{self.idxXObs[-1]}'\\\n",
    "          + f'_emb{self.embWindow}'\\\n",
    "          + '_' + self.kernel\n",
    "        if self.ifDen:\n",
    "            s += '_den'\n",
    "        return s"
   ]
  },
  {
   "cell_type": "code",
   "execution_count": 4,
   "id": "504ec33d-051d-4e58-bc56-c4c7daffba52",
   "metadata": {},
   "outputs": [],
   "source": [
    "# Set up NLSA and QMDA parameters\n",
    "nlsa_model = Nlsa(F=10,\n",
    "                  epsilon=1 / 128,\n",
    "                  dt=0.05,\n",
    "                  nS=40000,\n",
    "                  nSOut=7000,\n",
    "                  idxXSrc=np.arange(1, 9 + 1),\n",
    "                  idxXObs=np.arange(1, 9 + 1),\n",
    "                  embWindow=1,\n",
    "                  kernel='l2',\n",
    "                  ifDen=True)\n",
    "\n",
    "qmda_model = Qmda(nTO=1, # number of timesteps per assimilated observation\n",
    "                  nTF=100, # number of forecast timesteps\n",
    "                  nL=1024, # number of basis functions\n",
    "                  shape_fun=\"bump\", # kernel shape function used in state update\n",
    "                  epsilon=0.6) # bandwidth scaling parameter\n",
    "\n",
    "q = 10 # number of qubits\n",
    "n_obs = 200 # number of data assimilation observations\n",
    "n_pred = 100 # number of prediction timesteps\n",
    "n = 2 ** q # QMDA Hilbert space dimension"
   ]
  },
  {
   "cell_type": "code",
   "execution_count": 5,
   "id": "c1f949ea-048f-462a-8713-4e7846a3acfe",
   "metadata": {},
   "outputs": [],
   "source": [
    "# Import data from MATLAB code\n",
    "path = './figs'\n",
    "path = join(path, nlsa_model.tag(), qmda_model.tag())\n",
    "\n",
    "qmda_data = \\\n",
    "    {'u': loadmat(join(path, 'u.mat'), only_include='U_sav')['U_sav'],\n",
    "     'm': loadmat(join(path, 'm.mat'), only_include='M')['M'],\n",
    "     'm_eval': loadmat(join(path, 'm.mat'), only_include='MEval')['MEval'],\n",
    "     'm_evec': loadmat(join(path, 'm.mat'), only_include='MEvec')['MEvec'],\n",
    "     'k': loadmat(join(path, 'k.mat'), only_include='K_sav')['K_sav'],\n",
    "     'y': loadmat(join(path, 'y.mat'), only_include='yRef')['yRef']\n",
    "    }"
   ]
  },
  {
   "cell_type": "code",
   "execution_count": 6,
   "id": "c9bf505d-b8de-432a-9f39-c0f4370031c3",
   "metadata": {},
   "outputs": [],
   "source": [
    "u, _ = la.polar(qmda_data['u'][0:n, 0:n, 0])  # unitary Koopman matrix\n",
    "m = qmda_data['m'][0:n, 0:n] # multiplication operator matrix\n",
    "k = np.swapaxes(qmda_data['k'][0:n, 0:n, 0:n_obs], -1, 0) # array of feature operators\n",
    "y = qmda_data['y'][0:n_pred, 0:n_obs].T # reference trajectory"
   ]
  },
  {
   "cell_type": "code",
   "execution_count": 7,
   "id": "8320cc43-b178-4b7b-92bd-afa41a4bafef",
   "metadata": {},
   "outputs": [],
   "source": [
    "m_eval, m_evec = mat.eig_sorted(m, which='SR') # multiplication operator eigenvalues\n",
    "m_evec, _ = la.polar(m_evec) # multiplication operator eigenvectors\n",
    "dy = np.empty(n) # spectral bin sizes\n",
    "dy[1:-1] = (m_eval[2:] - m_eval[:-2]) / 2\n",
    "dy[0] = dy[1]\n",
    "dy[-1] = dy[-2]"
   ]
  },
  {
   "cell_type": "markdown",
   "id": "de2b1ee3-4a1c-43b7-8450-77b7f4cba874",
   "metadata": {},
   "source": [
    "## Posterior states\n",
    "\n",
    "We compute the quantum mechanical state vectors immediately after each observation by classical computation. For that, we build the transfer operator `transfer_op` that advances the state vector as a multiplication operator by the adjoint of the Koopman operator matrix `u`. We also buiild a Bayesian state update function `bayes` that conditions the state vector by the matrix representing the operator-valued feature map at each observation. Together `transfer_op` and `bayes` define a non-autonomous (skew-product) dynamical system that evolves an initial state vector `xi` given a sequence of feature matrices `k`. This evolution is stored in an array `xi_da`."
   ]
  },
  {
   "cell_type": "code",
   "execution_count": 8,
   "id": "d02bdafd-e66d-4c75-8ad7-c5ae5119ef4b",
   "metadata": {},
   "outputs": [],
   "source": [
    "xi = np.concatenate((np.array([1]), np.zeros(n - 1)))\n",
    "\n",
    "transfer_mat = u.conj().T\n",
    "transfer_op = multiply_by(mat, transfer_mat)\n",
    "bayes = partial(vec.condition_by, mat)\n",
    "da = make_da(forecast=transfer_op, analysis=bayes)\n",
    "xi_da = take(n_obs, cocycle_orbit(xi, k, da))"
   ]
  },
  {
   "cell_type": "markdown",
   "id": "2ce38e92-a774-4530-9f97-310d5839f9c3",
   "metadata": {},
   "source": [
    "## Quantum circuit construction\n",
    "\n",
    "We build quantum a circuit `circ` that implements Koopman evolution of the forecast observable given an initial state vector using the `koopman_circuit` function from the `nlsa.quantum_circuits` module. This function uses the `QuantumCircuit` class from Qiskit to build the circuit as composition of unitary gates that perform state initialization, Koopoman evolution, and eigenbasis rotation to produce probabilistic forecasts of the observable through measurement in the quantum computational purposes. The circuit created here is used for illustrative purposes only (Fig. 6 in Freeman et al.), and will be replaced by a family of circuits for each initial condition in `xi_da` below.    "
   ]
  },
  {
   "cell_type": "code",
   "execution_count": 9,
   "id": "31f606dd-2e78-4a66-b359-b89d6bc3fbec",
   "metadata": {},
   "outputs": [
    {
     "data": {
      "application/vnd.jupyter.widget-view+json": {
       "model_id": "7dbc47ba533e479c8c920fa408e7f4fa",
       "version_major": 2,
       "version_minor": 0
      },
      "image/png": "[encoded data removed]",
      "text/html": [
       "\n",
       "            <div style=\"display: inline-block;\">\n",
       "                <div class=\"jupyter-widgets widget-label\" style=\"text-align: center;\">\n",
       "                    Figure\n",
       "                </div>\n",
       "                <img src='data:image/png;base64,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' width=640.0/>\n",
       "            </div>\n",
       "        "
      ],
      "text/plain": [
       "Canvas(toolbar=Toolbar(toolitems=[('Home', 'Reset original view', 'home', 'home'), ('Back', 'Back to previous …"
      ]
     },
     "metadata": {},
     "output_type": "display_data"
    }
   ],
   "source": [
    "circ = koopman_circuit(q, m_evec, transfer_mat, xi)\n",
    "\n",
    "i_fig = 1\n",
    "\n",
    "if plt.fignum_exists(i_fig):\n",
    "    plt.close(i_fig)\n",
    "    \n",
    "fig, ax = plt.subplots(num=i_fig)\n",
    "ax.cla()\n",
    "circ.draw(output='mpl', ax=ax)\n",
    "circ.draw(output='latex_source', filename='koopman_circuit.tex');"
   ]
  },
  {
   "cell_type": "markdown",
   "id": "1541495a-f679-4581-95e3-afff3500c0a2",
   "metadata": {},
   "source": [
    "## Quantum circuit forecasts\n",
    "\n",
    "In the followingm, we fix a reference time in the verification dataset corresponding to timestep `j_ver`, and we build quantum circuits that predict the value of the forecast observable at the verification time at lead times of up to `max_lead` timestep at increments of `step_lead`. The initial quantum states come from the posterior states in `q_da`. We make probabilistic forecasts by forming ensembles of quantum measurements for each of these circuits. The number of ensemble members (shots) in each ensemble is specified by the variable `n_shots`. We form empirical forecast probability histograms and compare the forecast mean against the true value of the observable. These results correspond to Fig. 7 of Freeman et al.  "
   ]
  },
  {
   "cell_type": "code",
   "execution_count": 10,
   "id": "c4a89c0f-92f8-48cb-bfc6-5d1ab2caff1a",
   "metadata": {},
   "outputs": [],
   "source": [
    "n_proc = 2 # number of parallel processes\n",
    "pl = Pool(n_proc)"
   ]
  },
  {
   "cell_type": "code",
   "execution_count": 11,
   "id": "6e080082-0248-4c25-9555-f3e0ee0540cf",
   "metadata": {},
   "outputs": [],
   "source": [
    "j_ver = 150 # forecast verification timesetp\n",
    "max_lead = 15\n",
    "step_lead = 5\n",
    "\n",
    "j_lead = np.arange(0, max_lead + 1, step_lead)\n",
    "n_lead = len(j_lead)\n",
    "y_true = y[j_ver - 1, 0]"
   ]
  },
  {
   "cell_type": "code",
   "execution_count": 12,
   "id": "acd6ca0f-4a41-46b2-b51b-4b72b23c89e0",
   "metadata": {},
   "outputs": [],
   "source": [
    "predict_with_expectation = partial(pure_state_prediction, mat, m)\n",
    "\n",
    "transfer_mats = iterate(mat, transfer_mat, initial=np.identity(n)) \n",
    "xis = (xi_da[j_ver - j] for j in j_lead)\n",
    "exp_result = pl.starmap(predict_with_expectation, \n",
    "                        zip(islice(transfer_mats, 0, max_lead + 1, step_lead), \n",
    "                            xis))"
   ]
  },
  {
   "cell_type": "code",
   "execution_count": 13,
   "id": "6a5e3724-ef1a-4a86-95dc-02b820129c0f",
   "metadata": {},
   "outputs": [],
   "source": [
    "n_shots = 1E6\n",
    "\n",
    "make_circuit = partial(koopman_circuit, q, m_evec)\n",
    "make_measurement = partial(ensemble_measurement, shots=n_shots)\n",
    "predict_with_circuit = compose2(make_measurement, make_circuit)\n",
    "\n",
    "transfer_mats = iterate(mat, transfer_mat, initial=np.identity(n)) \n",
    "xis = (xi_da[j_ver - j] for j in j_lead)\n",
    "circ_pred = map(predict_with_circuit, \n",
    "                islice(transfer_mats, 0, max_lead + 1, step_lead), xis)\n",
    "circ_result = take(n_lead, circ_pred)"
   ]
  },
  {
   "cell_type": "code",
   "execution_count": 14,
   "id": "2964e800-f357-448d-b5f2-5711f7300024",
   "metadata": {},
   "outputs": [
    {
     "data": {
      "application/vnd.jupyter.widget-view+json": {
       "model_id": "b242bb75976c4a598de7333b40e04c04",
       "version_major": 2,
       "version_minor": 0
      },
      "text/plain": [
       "interactive(children=(IntSlider(value=0, continuous_update=False, description='i', max=3), Output()), _dom_cla…"
      ]
     },
     "metadata": {},
     "output_type": "display_data"
    },
    {
     "data": {
      "application/vnd.jupyter.widget-view+json": {
       "model_id": "fdb3d942d8ec45cea905f7d537ce1e41",
       "version_major": 2,
       "version_minor": 0
      },
      "image/png": "[encoded data removed]",
      "text/html": [
       "\n",
       "            <div style=\"display: inline-block;\">\n",
       "                <div class=\"jupyter-widgets widget-label\" style=\"text-align: center;\">\n",
       "                    Figure\n",
       "                </div>\n",
       "                <img src='data:image/png;base64,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' width=640.0/>\n",
       "            </div>\n",
       "        "
      ],
      "text/plain": [
       "Canvas(toolbar=Toolbar(toolitems=[('Home', 'Reset original view', 'home', 'home'), ('Back', 'Back to previous …"
      ]
     },
     "metadata": {},
     "output_type": "display_data"
    }
   ],
   "source": [
    "# Interactive histogram plots as a function of lead time\n",
    "i_fig = 2\n",
    "\n",
    "if plt.fignum_exists(i_fig):\n",
    "    plt.close(i_fig)\n",
    "    \n",
    "fig, ax = plt.subplots(num=i_fig)\n",
    "\n",
    "i_slider = IntSlider(value=0, min=0, max=n_lead - 1, continuous_update=False)\n",
    "\n",
    "@interact(i=i_slider) \n",
    "def plot_result(i):\n",
    "    idx = circ_result[i][0]\n",
    "    density = circ_result[i][1]\n",
    "    density_dy = density / dy[idx]\n",
    "    circ_mean = np.sum(m_eval[idx] * density)\n",
    "    ax.cla()\n",
    "    ax.axvline(x=y_true, color='r', label=\"true value\")\n",
    "    ax.axvline(x=exp_result[i], color='m', linewidth=5, label=\"qm expectation\")\n",
    "    ax.axvline(x=circ_mean, color='y', label=\"circuit mean\")\n",
    "    ax.bar(m_eval[idx], density_dy, width=0.3)\n",
    "    ax.set_xlabel(\"$x_1$\")\n",
    "    ax.set_ylabel(\"circuit density\")\n",
    "    ax.set_title(f\"Lead time $t={j_lead[i] * nlsa_model.dt:.2f}$\")\n",
    "    ax.legend()\n",
    "    ax.grid()"
   ]
  },
  {
   "cell_type": "code",
   "execution_count": 15,
   "id": "14fc4ec9-9a4f-40a7-97c3-9420bd87da98",
   "metadata": {},
   "outputs": [
    {
     "data": {
      "application/vnd.jupyter.widget-view+json": {
       "model_id": "73e681f127fe46dab4e9dee323957031",
       "version_major": 2,
       "version_minor": 0
      },
      "image/png": "[encoded data removed]",
      "text/html": [
       "\n",
       "            <div style=\"display: inline-block;\">\n",
       "                <div class=\"jupyter-widgets widget-label\" style=\"text-align: center;\">\n",
       "                    Figure\n",
       "                </div>\n",
       "                <img src='data:image/png;base64,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' width=900.0/>\n",
       "            </div>\n",
       "        "
      ],
      "text/plain": [
       "Canvas(toolbar=Toolbar(toolitems=[('Home', 'Reset original view', 'home', 'home'), ('Back', 'Back to previous …"
      ]
     },
     "metadata": {},
     "output_type": "display_data"
    }
   ],
   "source": [
    "# Tiled histogram plots\n",
    "i_fig = 3\n",
    "\n",
    "if plt.fignum_exists(i_fig):\n",
    "    plt.close(i_fig)\n",
    "\n",
    "fig, axs = plt.subplots(2, 2, figsize=(9, 7.2), subplot_kw=dict(box_aspect=0.75), \n",
    "                        num=i_fig, sharex=True, sharey=True,\n",
    "                        constrained_layout=True)\n",
    "\n",
    "for i, ax in enumerate(axs.flatten()):\n",
    "    idx = circ_result[i][0]\n",
    "    density = circ_result[i][1]\n",
    "    density_dy = density / dy[idx]\n",
    "    circ_mean = np.sum(m_eval[idx] * density)\n",
    "    #print(circ_mean)\n",
    "    ax.cla()\n",
    "    ax.axvline(x=y_true, color='r', linewidth=1.5, label=\"true value\")\n",
    "    ax.axvline(x=circ_mean, color='y', linewidth=1.5, label=\"circuit mean\")\n",
    "    ax.bar(m_eval[idx], density_dy, width=0.3)\n",
    "    ax.set_axisbelow(True)\n",
    "    ax.set_title(f\"Lead time $\\\\tau={j_lead[i] * nlsa_model.dt:.2f}$\")\n",
    "    ax.grid()\n",
    "    \n",
    "axs[0, 0].legend()\n",
    "\n",
    "for ax in axs[:, 0]:\n",
    "    ax.set_ylabel(\"circuit density\")\n",
    "    \n",
    "for ax in axs[-1, :]:\n",
    "    ax.set_xlabel(\"$x_1$\")\n",
    "    \n",
    "plt.savefig('figCircuitPred.png', format='png', dpi=300)"
   ]
  }
 ],
 "metadata": {
  "kernelspec": {
   "display_name": "Python 3 (ipykernel)",
   "language": "python",
   "name": "python3"
  },
  "language_info": {
   "codemirror_mode": {
    "name": "ipython",
    "version": 3
   },
   "file_extension": ".py",
   "mimetype": "text/x-python",
   "name": "python",
   "nbconvert_exporter": "python",
   "pygments_lexer": "ipython3",
   "version": "3.10.9"
  },
  "widgets": {
   "application/vnd.jupyter.widget-state+json": {
    "state": {
     "05b961a1a6e24565be5436e5d079d278": {
      "model_module": "jupyter-matplotlib",
      "model_module_version": "^0.11",
      "model_name": "ToolbarModel",
      "state": {
       "_model_module_version": "^0.11",
       "_view_module_version": "^0.11",
       "collapsed": true,
       "layout": "IPY_MODEL_37f4c315ff22448d835f5b3b69c83c6e",
       "orientation": "vertical",
       "toolitems": [
        [
         "Home",
         "Reset original view",
         "home",
         "home"
        ],
        [
         "Back",
         "Back to previous view",
         "arrow-left",
         "back"
        ],
        [
         "Forward",
         "Forward to next view",
         "arrow-right",
         "forward"
        ],
        [
         "Pan",
         "Left button pans, Right button zooms\nx/y fixes axis, CTRL fixes aspect",
         "arrows",
         "pan"
        ],
        [
         "Zoom",
         "Zoom to rectangle\nx/y fixes axis",
         "square-o",
         "zoom"
        ],
        [
         "Download",
         "Download plot",
         "floppy-o",
         "save_figure"
        ]
       ]
      }
     },
     "061fd9537a624bcfb549a3c710c8f4d2": {
      "model_module": "jupyter-matplotlib",
      "model_module_version": "^0.11",
      "model_name": "ToolbarModel",
      "state": {
       "_model_module_version": "^0.11",
       "_view_module_version": "^0.11",
       "collapsed": true,
       "layout": "IPY_MODEL_e9a6b8d4b2514cca932bae5a58de13e0",
       "orientation": "vertical",
       "toolitems": [
        [
         "Home",
         "Reset original view",
         "home",
         "home"
        ],
        [
         "Back",
         "Back to previous view",
         "arrow-left",
         "back"
        ],
        [
         "Forward",
         "Forward to next view",
         "arrow-right",
         "forward"
        ],
        [
         "Pan",
         "Left button pans, Right button zooms\nx/y fixes axis, CTRL fixes aspect",
         "arrows",
         "pan"
        ],
        [
         "Zoom",
         "Zoom to rectangle\nx/y fixes axis",
         "square-o",
         "zoom"
        ],
        [
         "Download",
         "Download plot",
         "floppy-o",
         "save_figure"
        ]
       ]
      }
     },
     "1902cc9d87ad4634967ed29d7f83cb99": {
      "model_module": "jupyter-matplotlib",
      "model_module_version": "^0.11",
      "model_name": "ToolbarModel",
      "state": {
       "_model_module_version": "^0.11",
       "_view_module_version": "^0.11",
       "collapsed": true,
       "layout": "IPY_MODEL_b2d219e38fc040b08c78f3586c603cc7",
       "orientation": "vertical",
       "toolitems": [
        [
         "Home",
         "Reset original view",
         "home",
         "home"
        ],
        [
         "Back",
         "Back to previous view",
         "arrow-left",
         "back"
        ],
        [
         "Forward",
         "Forward to next view",
         "arrow-right",
         "forward"
        ],
        [
         "Pan",
         "Left button pans, Right button zooms\nx/y fixes axis, CTRL fixes aspect",
         "arrows",
         "pan"
        ],
        [
         "Zoom",
         "Zoom to rectangle\nx/y fixes axis",
         "square-o",
         "zoom"
        ],
        [
         "Download",
         "Download plot",
         "floppy-o",
         "save_figure"
        ]
       ]
      }
     },
     "1aa766da06044c93b0d410948a2d3310": {
      "model_module": "jupyter-matplotlib",
      "model_module_version": "^0.11",
      "model_name": "ToolbarModel",
      "state": {
       "_model_module_version": "^0.11",
       "_view_module_version": "^0.11",
       "collapsed": true,
       "layout": "IPY_MODEL_4da0028b47ee45d6bce2d94af668a302",
       "orientation": "vertical",
       "toolitems": [
        [
         "Home",
         "Reset original view",
         "home",
         "home"
        ],
        [
         "Back",
         "Back to previous view",
         "arrow-left",
         "back"
        ],
        [
         "Forward",
         "Forward to next view",
         "arrow-right",
         "forward"
        ],
        [
         "Pan",
         "Left button pans, Right button zooms\nx/y fixes axis, CTRL fixes aspect",
         "arrows",
         "pan"
        ],
        [
         "Zoom",
         "Zoom to rectangle\nx/y fixes axis",
         "square-o",
         "zoom"
        ],
        [
         "Download",
         "Download plot",
         "floppy-o",
         "save_figure"
        ]
       ]
      }
     },
     "2571eba797cb4fd08bfbaa1497839ad0": {
      "model_module": "@jupyter-widgets/base",
      "model_module_version": "2.0.0",
      "model_name": "LayoutModel",
      "state": {}
     },
     "317a7ea1b2304298945e014899e7af43": {
      "model_module": "@jupyter-widgets/controls",
      "model_module_version": "2.0.0",
      "model_name": "VBoxModel",
      "state": {
       "_dom_classes": [
        "widget-interact"
       ],
       "children": [
        "IPY_MODEL_71fd1771696b4ab58e677e4c62624589",
        "IPY_MODEL_f1f3f4afacb9431e8a19a7f018ff34f2"
       ],
       "layout": "IPY_MODEL_cf6b7a4a433f4368812cef440e84dce7"
      }
     },
     "3726183dd9da42a8bf7005f4890c77cb": {
      "model_module": "@jupyter-widgets/base",
      "model_module_version": "2.0.0",
      "model_name": "LayoutModel",
      "state": {}
     },
     "37f4c315ff22448d835f5b3b69c83c6e": {
      "model_module": "@jupyter-widgets/base",
      "model_module_version": "2.0.0",
      "model_name": "LayoutModel",
      "state": {}
     },
     "3b24dbfef30b42cc8a23d7fa2e8c5f57": {
      "model_module": "@jupyter-widgets/base",
      "model_module_version": "2.0.0",
      "model_name": "LayoutModel",
      "state": {}
     },
     "3c166bad78cb4d91a2645e80481dce92": {
      "model_module": "jupyter-matplotlib",
      "model_module_version": "^0.11",
      "model_name": "ToolbarModel",
      "state": {
       "_model_module_version": "^0.11",
       "_view_module_version": "^0.11",
       "collapsed": true,
       "layout": "IPY_MODEL_bd32bc6c159f4b599c1a0d4a6351e8fd",
       "orientation": "vertical",
       "toolitems": [
        [
         "Home",
         "Reset original view",
         "home",
         "home"
        ],
        [
         "Back",
         "Back to previous view",
         "arrow-left",
         "back"
        ],
        [
         "Forward",
         "Forward to next view",
         "arrow-right",
         "forward"
        ],
        [
         "Pan",
         "Left button pans, Right button zooms\nx/y fixes axis, CTRL fixes aspect",
         "arrows",
         "pan"
        ],
        [
         "Zoom",
         "Zoom to rectangle\nx/y fixes axis",
         "square-o",
         "zoom"
        ],
        [
         "Download",
         "Download plot",
         "floppy-o",
         "save_figure"
        ]
       ]
      }
     },
     "445aaac70c1a4fd0a85a699d21ce2cf1": {
      "model_module": "jupyter-matplotlib",
      "model_module_version": "^0.11",
      "model_name": "ToolbarModel",
      "state": {
       "_model_module_version": "^0.11",
       "_view_module_version": "^0.11",
       "collapsed": true,
       "layout": "IPY_MODEL_3726183dd9da42a8bf7005f4890c77cb",
       "orientation": "vertical",
       "toolitems": [
        [
         "Home",
         "Reset original view",
         "home",
         "home"
        ],
        [
         "Back",
         "Back to previous view",
         "arrow-left",
         "back"
        ],
        [
         "Forward",
         "Forward to next view",
         "arrow-right",
         "forward"
        ],
        [
         "Pan",
         "Left button pans, Right button zooms\nx/y fixes axis, CTRL fixes aspect",
         "arrows",
         "pan"
        ],
        [
         "Zoom",
         "Zoom to rectangle\nx/y fixes axis",
         "square-o",
         "zoom"
        ],
        [
         "Download",
         "Download plot",
         "floppy-o",
         "save_figure"
        ]
       ]
      }
     },
     "4da0028b47ee45d6bce2d94af668a302": {
      "model_module": "@jupyter-widgets/base",
      "model_module_version": "2.0.0",
      "model_name": "LayoutModel",
      "state": {}
     },
     "58a89effef3d41c4854687adcfda78ab": {
      "model_module": "@jupyter-widgets/output",
      "model_module_version": "1.0.0",
      "model_name": "OutputModel",
      "state": {
       "layout": "IPY_MODEL_819069293aa4458493173330880f3573"
      }
     },
     "5ac390bae5cd44c19f7ea76930b18cb9": {
      "model_module": "@jupyter-widgets/base",
      "model_module_version": "2.0.0",
      "model_name": "LayoutModel",
      "state": {}
     },
     "64b2ff2d71ed4d38a60b5746a0b73213": {
      "model_module": "@jupyter-widgets/base",
      "model_module_version": "2.0.0",
      "model_name": "LayoutModel",
      "state": {}
     },
     "6c65a8f61e0f4f0485c54a6322d64d3e": {
      "model_module": "@jupyter-widgets/base",
      "model_module_version": "2.0.0",
      "model_name": "LayoutModel",
      "state": {}
     },
     "71fd1771696b4ab58e677e4c62624589": {
      "model_module": "@jupyter-widgets/controls",
      "model_module_version": "2.0.0",
      "model_name": "IntSliderModel",
      "state": {
       "behavior": "drag-tap",
       "continuous_update": false,
       "description": "i",
       "layout": "IPY_MODEL_93ead24a49ec46e8a850cf23f108d608",
       "max": 3,
       "style": "IPY_MODEL_fe09c934108b44efba59bf28a4502ddd"
      }
     },
     "7e5dbe62c2fe411f9d47d5b768ecf3a2": {
      "model_module": "@jupyter-widgets/base",
      "model_module_version": "2.0.0",
      "model_name": "LayoutModel",
      "state": {}
     },
     "819069293aa4458493173330880f3573": {
      "model_module": "@jupyter-widgets/base",
      "model_module_version": "2.0.0",
      "model_name": "LayoutModel",
      "state": {}
     },
     "8c6ac404f45946ee9b7be43b4c00c5c8": {
      "model_module": "@jupyter-widgets/base",
      "model_module_version": "2.0.0",
      "model_name": "LayoutModel",
      "state": {}
     },
     "93ead24a49ec46e8a850cf23f108d608": {
      "model_module": "@jupyter-widgets/base",
      "model_module_version": "2.0.0",
      "model_name": "LayoutModel",
      "state": {}
     },
     "9ffd7cc8907442f2beaa9bd6a643cbab": {
      "model_module": "@jupyter-widgets/base",
      "model_module_version": "2.0.0",
      "model_name": "LayoutModel",
      "state": {}
     },
     "a5624a42036948e7999469fc4ff40cc0": {
      "model_module": "jupyter-matplotlib",
      "model_module_version": "^0.11",
      "model_name": "ToolbarModel",
      "state": {
       "_model_module_version": "^0.11",
       "_view_module_version": "^0.11",
       "collapsed": true,
       "layout": "IPY_MODEL_2571eba797cb4fd08bfbaa1497839ad0",
       "orientation": "vertical",
       "toolitems": [
        [
         "Home",
         "Reset original view",
         "home",
         "home"
        ],
        [
         "Back",
         "Back to previous view",
         "arrow-left",
         "back"
        ],
        [
         "Forward",
         "Forward to next view",
         "arrow-right",
         "forward"
        ],
        [
         "Pan",
         "Left button pans, Right button zooms\nx/y fixes axis, CTRL fixes aspect",
         "arrows",
         "pan"
        ],
        [
         "Zoom",
         "Zoom to rectangle\nx/y fixes axis",
         "square-o",
         "zoom"
        ],
        [
         "Download",
         "Download plot",
         "floppy-o",
         "save_figure"
        ]
       ]
      }
     },
     "b2d219e38fc040b08c78f3586c603cc7": {
      "model_module": "@jupyter-widgets/base",
      "model_module_version": "2.0.0",
      "model_name": "LayoutModel",
      "state": {}
     },
     "b9a909f701d64468b84b5f945d0b3a32": {
      "model_module": "@jupyter-widgets/controls",
      "model_module_version": "2.0.0",
      "model_name": "SliderStyleModel",
      "state": {
       "description_width": ""
      }
     },
     "bd32bc6c159f4b599c1a0d4a6351e8fd": {
      "model_module": "@jupyter-widgets/base",
      "model_module_version": "2.0.0",
      "model_name": "LayoutModel",
      "state": {}
     },
     "bd46f23880b0442bbae09f22ed52991e": {
      "model_module": "@jupyter-widgets/controls",
      "model_module_version": "2.0.0",
      "model_name": "VBoxModel",
      "state": {
       "_dom_classes": [
        "widget-interact"
       ],
       "children": [
        "IPY_MODEL_e7487d8d85874ae8a9879181e8c1652b",
        "IPY_MODEL_58a89effef3d41c4854687adcfda78ab"
       ],
       "layout": "IPY_MODEL_8c6ac404f45946ee9b7be43b4c00c5c8"
      }
     },
     "c30176ded14042d6b572a70b5dd624c0": {
      "model_module": "@jupyter-widgets/base",
      "model_module_version": "2.0.0",
      "model_name": "LayoutModel",
      "state": {}
     },
     "cf6b7a4a433f4368812cef440e84dce7": {
      "model_module": "@jupyter-widgets/base",
      "model_module_version": "2.0.0",
      "model_name": "LayoutModel",
      "state": {}
     },
     "d8d44e52dda14966a4c0490a9aa72cef": {
      "model_module": "@jupyter-widgets/base",
      "model_module_version": "2.0.0",
      "model_name": "LayoutModel",
      "state": {}
     },
     "e7487d8d85874ae8a9879181e8c1652b": {
      "model_module": "@jupyter-widgets/controls",
      "model_module_version": "2.0.0",
      "model_name": "IntSliderModel",
      "state": {
       "behavior": "drag-tap",
       "continuous_update": false,
       "description": "i",
       "layout": "IPY_MODEL_7e5dbe62c2fe411f9d47d5b768ecf3a2",
       "max": 3,
       "style": "IPY_MODEL_b9a909f701d64468b84b5f945d0b3a32",
       "value": 3
      }
     },
     "e9509355f7e74ff5a2820f7e1ca2eb32": {
      "model_module": "@jupyter-widgets/base",
      "model_module_version": "2.0.0",
      "model_name": "LayoutModel",
      "state": {}
     },
     "e9a6b8d4b2514cca932bae5a58de13e0": {
      "model_module": "@jupyter-widgets/base",
      "model_module_version": "2.0.0",
      "model_name": "LayoutModel",
      "state": {}
     },
     "f1f3f4afacb9431e8a19a7f018ff34f2": {
      "model_module": "@jupyter-widgets/output",
      "model_module_version": "1.0.0",
      "model_name": "OutputModel",
      "state": {
       "layout": "IPY_MODEL_f202bf18afaf41d6997b44585fefdef8"
      }
     },
     "f202bf18afaf41d6997b44585fefdef8": {
      "model_module": "@jupyter-widgets/base",
      "model_module_version": "2.0.0",
      "model_name": "LayoutModel",
      "state": {}
     },
     "f23035dd788543fe8d62ee621c94aac5": {
      "model_module": "jupyter-matplotlib",
      "model_module_version": "^0.11",
      "model_name": "ToolbarModel",
      "state": {
       "_model_module_version": "^0.11",
       "_view_module_version": "^0.11",
       "collapsed": true,
       "layout": "IPY_MODEL_c30176ded14042d6b572a70b5dd624c0",
       "orientation": "vertical",
       "toolitems": [
        [
         "Home",
         "Reset original view",
         "home",
         "home"
        ],
        [
         "Back",
         "Back to previous view",
         "arrow-left",
         "back"
        ],
        [
         "Forward",
         "Forward to next view",
         "arrow-right",
         "forward"
        ],
        [
         "Pan",
         "Left button pans, Right button zooms\nx/y fixes axis, CTRL fixes aspect",
         "arrows",
         "pan"
        ],
        [
         "Zoom",
         "Zoom to rectangle\nx/y fixes axis",
         "square-o",
         "zoom"
        ],
        [
         "Download",
         "Download plot",
         "floppy-o",
         "save_figure"
        ]
       ]
      }
     },
     "fc0bf7d66de0412db1d2e8acd39df4c1": {
      "model_module": "@jupyter-widgets/base",
      "model_module_version": "2.0.0",
      "model_name": "LayoutModel",
      "state": {}
     },
     "fe09c934108b44efba59bf28a4502ddd": {
      "model_module": "@jupyter-widgets/controls",
      "model_module_version": "2.0.0",
      "model_name": "SliderStyleModel",
      "state": {
       "description_width": ""
      }
     }
    },
    "version_major": 2,
    "version_minor": 0
   }
  }
 },
 "nbformat": 4,
 "nbformat_minor": 5
}
