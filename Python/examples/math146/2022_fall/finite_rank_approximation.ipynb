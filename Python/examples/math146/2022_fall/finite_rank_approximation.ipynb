{
 "cells": [
  {
   "cell_type": "markdown",
   "id": "ad041a6d-772e-46d2-95ca-bf8066c1da72",
   "metadata": {},
   "source": [
    "# Finite-rank approximation of Koopman operators"
   ]
  },
  {
   "cell_type": "code",
   "execution_count": 1,
   "id": "d49d9542-5ed4-40aa-9b85-19fde14b7351",
   "metadata": {},
   "outputs": [
    {
     "name": "stderr",
     "output_type": "stream",
     "text": [
      "Version 1.0.4\n"
     ]
    }
   ],
   "source": [
    "%load_ext nb_mypy\n",
    "%nb_mypy On\n",
    "    \n",
    "%matplotlib ipympl"
   ]
  },
  {
   "cell_type": "code",
   "execution_count": 4,
   "id": "4da53238-6e08-45c1-b8a1-29127c640546",
   "metadata": {},
   "outputs": [],
   "source": [
    "from functools import partial\n",
    "from ipywidgets import widgets, interactive, IntSlider\n",
    "from nlsa.abstract_algebra import compose_by, multiply_by\n",
    "from nlsa.dynamics import orbit\n",
    "from nptyping import Complex, Double, Int, NDArray, Shape\n",
    "from more_itertools import take\n",
    "from scipy.linalg import polar\n",
    "from scipy.stats import vonmises\n",
    "from typing import Callable, Generator, Iterator, TypeVar, Tuple\n",
    "import matplotlib.pyplot as plt\n",
    "import nlsa.function_algebra as fun\n",
    "import nlsa.fourier_s1 as f1\n",
    "import nlsa.fourier_t2 as f2\n",
    "import nlsa.matrix_algebra as mat\n",
    "import nlsa.vector_algebra as vec\n",
    "import numpy as np"
   ]
  },
  {
   "cell_type": "code",
   "execution_count": 5,
   "id": "6b126eb0-17bc-44b7-8ca6-ff6539c5cc34",
   "metadata": {},
   "outputs": [],
   "source": [
    "R = float\n",
    "R2 = Tuple[float, float]\n",
    "I2 = Tuple[int, int]\n",
    "\n",
    "X = NDArray[Shape[\"*\"], Double]\n",
    "X2 = NDArray[Shape[\"*, 2\"], Double]\n",
    "Y = TypeVar(\"Y\", NDArray[Shape[\"*\"], Double], NDArray[Shape[\"*\"], Complex])\n",
    "F = Callable[[X], Y]\n",
    "F2 = Callable[[X2], Y]\n",
    "\n",
    "N = TypeVar(\"N\")\n",
    "K = NDArray[Shape[\"N\"], Int]\n",
    "V = TypeVar(\"V\", NDArray[Shape[\"N\"], Double], NDArray[Shape[\"N\"], Complex])\n",
    "VR = NDArray[Shape[\"N\"], Double]\n",
    "M = TypeVar(\"M\", NDArray[Shape[\"N\"], Double], NDArray[Shape[\"N, N\"], Complex])"
   ]
  },
  {
   "cell_type": "markdown",
   "id": "5bccbe82-3d8b-448a-80ed-c5f2cc2fe307",
   "metadata": {},
   "source": [
    "## Approximation of observables\n",
    "\n",
    "Before studying the approximation of the dynamics by projected Koopman operators, we examine aspects of approximation of observables by orthogonal projection onto the finite-dimensional subspaces $H_L$. As an illustrative example, we consider the von Mises distribution on the circle which we also employed in Notebook   "
   ]
  },
  {
   "cell_type": "code",
   "execution_count": 7,
   "id": "1437dadc-6d69-4d69-8769-42e518c4a266",
   "metadata": {},
   "outputs": [],
   "source": [
    "def vm(kappa: R) -> Callable[[X], Y]:\n",
    "    \"\"\"Von Mises probability density.\"\"\"\n",
    "    def f(x: X) -> Y:\n",
    "        y = 2 * np.pi * vonmises.pdf(x, kappa, loc=np.pi) \n",
    "        return y\n",
    "    return f\n",
    "\n",
    "def vm_fourier(kappa: R, l: int) -> V:\n",
    "    \"\"\"Fourier coefficients of von Mises density\"\"\"\n",
    "    vm_hat = f1.von_mises_fourier(kappa, loc=np.pi)\n",
    "    f_hat: V = vm_hat(f1.dual_group(l))\n",
    "    return f_hat\n",
    "    \n",
    "def vm_proj(kappa: R, l: int) -> Callable[[X], Y]:\n",
    "    \"\"\"Projected Von Mises probability density.\"\"\"\n",
    "    phi = f1.fourier_basis(l)\n",
    "    f: Callable[[X], Y] = fun.synthesis(phi, vm_fourier(kappa, l))\n",
    "    return f"
   ]
  },
  {
   "cell_type": "code",
   "execution_count": 8,
   "id": "1b1cf46b-8e0b-47a3-ac39-f14caf2d6fbe",
   "metadata": {},
   "outputs": [
    {
     "data": {
      "application/vnd.jupyter.widget-view+json": {
       "model_id": "13b238d6dbd64797aedf80866d0f180c",
       "version_major": 2,
       "version_minor": 0
      },
      "text/plain": [
       "interactive(children=(IntSlider(value=0, description='l', max=9), Output()), _dom_classes=('widget-interact',)…"
      ]
     },
     "execution_count": 8,
     "metadata": {},
     "output_type": "execute_result"
    }
   ],
   "source": [
    "kappa = 10\n",
    "l_max = 10\n",
    "xs = np.linspace(0, 2 * np.pi, 200)\n",
    "g = vm(kappa)\n",
    "gxs = g(xs)\n",
    "fig1 = plt.figure(1)\n",
    "\n",
    "def plotfunc1(l):\n",
    "    f = vm_proj(kappa, l)\n",
    "    fxs = np.real(f(xs))\n",
    "    plt.cla()\n",
    "    plt.plot(xs, gxs, label='True')\n",
    "    plt.plot(xs, fxs, label=f'Projected, $L = {l}$')\n",
    "    plt.xlabel('$\\\\theta$')\n",
    "    plt.grid(True)\n",
    "    plt.title(\"Approximation of von Mises density by orthogonal projection\")\n",
    "    plt.legend()\n",
    "    plt.show()\n",
    "    fig1.canvas.draw()\n",
    "    \n",
    "interactive(plotfunc1, l=IntSlider(value=0, min=0, max=l_max - 1)) "
   ]
  },
  {
   "cell_type": "markdown",
   "id": "1d9bff3d-688b-4283-8038-ee200c339037",
   "metadata": {},
   "source": [
    "## Approximation of the Koopman operator"
   ]
  },
  {
   "cell_type": "markdown",
   "id": "7bad350c-a20c-4a37-bb41-ba2f8407494c",
   "metadata": {},
   "source": [
    "### Circle rotation"
   ]
  },
  {
   "cell_type": "code",
   "execution_count": 12,
   "id": "50d6e82a-b07d-4656-b52b-891ad223bcad",
   "metadata": {},
   "outputs": [
    {
     "name": "stderr",
     "output_type": "stream",
     "text": [
      "<cell>37: error: Type variable \"__main__.V\" is unbound\n",
      "<cell>37: note: (Hint: Use \"Generic[V]\" or \"Protocol[V]\" base class to bind \"V\" inside a class)\n",
      "<cell>37: note: (Hint: Use \"V\" in function signature to bind \"V\" inside a function)\n",
      "<cell>43: error: Incompatible return value type (got \"map[Callable[[X], S_mat]]\", expected \"Iterator[Callable[[ndarray[Any, dtype[floating[Any]]]], Any]]\")\n"
     ]
    }
   ],
   "source": [
    "def phi_rot(a: R, x: X) -> X:\n",
    "    \"\"\"Circle rotation.\"\"\"\n",
    "    y = (x + a) % (2 * np.pi) \n",
    "    return y\n",
    "\n",
    "\n",
    "def u_rot(a: R) -> Callable[[F], F]:\n",
    "    \"\"\"Composition map induced by circle rotation.\"\"\"\n",
    "    phi = partial(phi_rot, a)\n",
    "    u = compose_by(fun, phi)\n",
    "    return u\n",
    "\n",
    "\n",
    "def vm_rot(a: R, kappa: R) -> Generator[F, None, None]:\n",
    "    \"\"\"Orbit of the von Mises density under the Koopman operator for the \n",
    "    circle rotation.\n",
    "    \n",
    "    \"\"\"\n",
    "    f = vm(kappa)\n",
    "    u = u_rot(a)\n",
    "    f_orb = orbit(f, u)\n",
    "    return f_orb\n",
    "\n",
    "\n",
    "def u_rot_fourier(a: R, l: int) -> Callable[[V], V]:\n",
    "    \"\"\"Projected Koopman operator for circle rotation in Fourier domain.\"\"\"\n",
    "    spec = f1.rotation_koopman_eigs(a)\n",
    "    u = multiply_by(vec, spec(f1.dual_group(l)))\n",
    "    return u\n",
    "    \n",
    "    \n",
    "def vm_rot_proj(a: R, kappa: R, l: int) -> Iterator[F]:\n",
    "    \"\"\"Orbit of the von Mises density under the projected Koopman operator \n",
    "    associated with the circle rotation.\n",
    "    \n",
    "    \"\"\"\n",
    "    f_hat = vm_fourier(kappa, l)\n",
    "    u = u_rot_fourier(a, l)\n",
    "    f_hat_orb = orbit(f_hat, u)\n",
    "    phi = f1.fourier_basis(l)\n",
    "    synth = partial(fun.synthesis, phi)\n",
    "    f_orb = map(synth, f_hat_orb)\n",
    "    return f_orb"
   ]
  },
  {
   "cell_type": "code",
   "execution_count": 9,
   "id": "20dade1b-022c-4ca0-b8e0-a1428f656640",
   "metadata": {},
   "outputs": [
    {
     "data": {
      "application/vnd.jupyter.widget-view+json": {
       "model_id": "bf4f8f984fda49cc99999c6018611e76",
       "version_major": 2,
       "version_minor": 0
      },
      "text/plain": [
       "interactive(children=(IntSlider(value=0, description='l', max=9), IntSlider(value=0, description='n', max=9), …"
      ]
     },
     "execution_count": 9,
     "metadata": {},
     "output_type": "execute_result"
    }
   ],
   "source": [
    "a_2pi = 1 / np.sqrt(20)\n",
    "kappa = 10\n",
    "l_max = 10\n",
    "n_iter = 10\n",
    "\n",
    "a = 2 * np.pi * a_2pi\n",
    "gs = take(n_iter, vm_rot(a, kappa)) \n",
    "xs = np.linspace(0, 2 * np.pi, 200)\n",
    "fig2 = plt.figure(2)\n",
    "\n",
    "def plotfunc2(l, n):\n",
    "    fs = take(n_iter, vm_rot_proj(a, kappa, l)) \n",
    "    f = fs[n]\n",
    "    g = gs[n]\n",
    "    fxs = np.real(f(xs))\n",
    "    gxs = g(xs)\n",
    "    plt.cla()\n",
    "    plt.plot(xs, gxs, label='True')\n",
    "    plt.plot(xs, fxs, label=f'Projected, $L = {l}$')\n",
    "    plt.xlabel('$x$')\n",
    "    plt.grid(True)\n",
    "    plt.title(f'Circle rotation by angle $a={a_2pi:.3f}\\\\times 2\\pi$; iteration $n= {n}$')\n",
    "    plt.legend()\n",
    "    plt.show()\n",
    "    fig2.canvas.draw()\n",
    "    \n",
    "    \n",
    "interactive(plotfunc2, l=IntSlider(value=0, min=0, max=l_max - 1),\n",
    "            n=IntSlider(value=0, min=0, max=n_iter - 1)) "
   ]
  },
  {
   "cell_type": "markdown",
   "id": "13f5aa67-1e1f-4d80-af72-da2d906004a4",
   "metadata": {},
   "source": [
    "### Doubling map"
   ]
  },
  {
   "cell_type": "code",
   "execution_count": 10,
   "id": "d5ce0996-a8c0-4d28-be83-d152bb29d613",
   "metadata": {},
   "outputs": [
    {
     "name": "stderr",
     "output_type": "stream",
     "text": [
      "<cell>41: error: Type variable \"__main__.V\" is unbound\n",
      "<cell>41: note: (Hint: Use \"Generic[V]\" or \"Protocol[V]\" base class to bind \"V\" inside a class)\n",
      "<cell>41: note: (Hint: Use \"V\" in function signature to bind \"V\" inside a function)\n",
      "<cell>47: error: Incompatible return value type (got \"map[Callable[[X], S_mat]]\", expected \"Iterator[Callable[[ndarray[Any, dtype[floating[Any]]]], Any]]\")\n",
      "<cell>77: error: Incompatible return value type (got \"map[Callable[[X], S_mat]]\", expected \"Iterator[Callable[[ndarray[Any, dtype[floating[Any]]]], Any]]\")\n"
     ]
    }
   ],
   "source": [
    "def phi_doubling(x: X) -> X:\n",
    "    \"\"\"Doubling map on the circle.\"\"\"\n",
    "    y = 2 * x % (2 * np.pi) \n",
    "    return y\n",
    "\n",
    "\n",
    "u_doubling = compose_by(fun, phi_doubling)\n",
    "\n",
    "def vm_doubling(kappa: R) -> Generator[F, None, None]:\n",
    "    \"\"\"Orbit of the von Mises density under the Koopman operator for the \n",
    "    doubling map.\n",
    "    \n",
    "    \"\"\"\n",
    "    f = vm(kappa)\n",
    "    f_orb = orbit(f, u_doubling)\n",
    "    return f_orb\n",
    "\n",
    "\n",
    "def u_doubling_fourier(l: int) -> Callable[[V], V]:\n",
    "    \"\"\"Returns the representation of the projected Koopman operator associated\n",
    "    with the doubling map in the Fourier basis.\n",
    "\n",
    "    :l: Maximal wavenumber.\n",
    "    :returns: Projected Koopman operator on Fourier coefficient vectors.\n",
    "\n",
    "    \"\"\"\n",
    "    k = f1.dual_group(l)\n",
    "\n",
    "    def g(y: Y) -> Y:\n",
    "        z = np.zeros_like(y)\n",
    "        z[k % 2 == 0] = y[np.abs(k) <= l // 2]\n",
    "        return z\n",
    "    return g\n",
    "\n",
    "\n",
    "def vm_doubling_proj(kappa: R, l: int) -> Iterator[F]:\n",
    "    \"\"\"Orbit of the von Mises density under the projected Koopman operator for\n",
    "    the doubling map.\n",
    "    \n",
    "    \"\"\"\n",
    "    f_hat = vm_fourier(kappa, l)\n",
    "    u = u_doubling_fourier(l)\n",
    "    f_hat_orb = orbit(f_hat, u)\n",
    "    phi = f1.fourier_basis(l)\n",
    "    synth = partial(fun.synthesis, phi)\n",
    "    f_orb  = map(synth, f_hat_orb)\n",
    "    return f_orb\n",
    "\n",
    "\n",
    "def u_doubling_polar(l: int) -> Callable[[V], V]:\n",
    "    \"\"\"Returns the unitary part of the projected Koopman operator associated \n",
    "    with the doubling map in the Fourier basis.\n",
    "\n",
    "    :l: Maximal wavenumber.\n",
    "    :returns: Unitary matrix from polar decomposition of projected Koopman\n",
    "    operator\n",
    "\n",
    "    \"\"\"\n",
    "    u_mat = np.array(list(map(u_doubling_fourier(l),\n",
    "                              np.eye(2 * l + 1))))\n",
    "    u_unitary, p = polar(u_mat) \n",
    "    u = multiply_by(mat, u_unitary) \n",
    "    return u\n",
    "\n",
    "\n",
    "def vm_doubling_polar(kappa: R, l: int) -> Iterator[F]:\n",
    "    \"\"\"Orbit of the von Mises density under the unitary part of the projected\n",
    "    Koopman operator for the doubling map.\n",
    "    \n",
    "    \"\"\"\n",
    "    f_hat = vm_fourier(kappa, l)\n",
    "    u = u_doubling_polar(l)\n",
    "    f_hat_orb = orbit(f_hat, u)\n",
    "    phi = f1.fourier_basis(l)\n",
    "    synth = partial(fun.synthesis, phi)\n",
    "    f_orb  = map(synth, f_hat_orb)\n",
    "    return f_orb"
   ]
  },
  {
   "cell_type": "code",
   "execution_count": 11,
   "id": "dceb2053-44b5-431b-b4b9-0685330608a5",
   "metadata": {},
   "outputs": [
    {
     "name": "stderr",
     "output_type": "stream",
     "text": [
      "<cell>10: error: Argument 1 has incompatible type \"ndarray[Any, dtype[Any]]\"; expected \"X\"\n"
     ]
    },
    {
     "data": {
      "text/plain": [
       "array([7.40084463+0.j        , 1.63069333-0.94556133j])"
      ]
     },
     "execution_count": 11,
     "metadata": {},
     "output_type": "execute_result"
    }
   ],
   "source": [
    "u_mat = np.array(list(map(u_doubling_fourier(l_max),\n",
    "                          np.eye(2* l_max + 1))))\n",
    "u_mat, p = polar(u_mat) \n",
    "u = multiply_by(mat, u_mat)\n",
    "f_hat = vm_fourier(kappa, l_max)\n",
    "g_hat = u(f_hat)\n",
    "phi = f1.fourier_basis(l_max)\n",
    "synth = partial(fun.synthesis, phi)\n",
    "gx = synth(g_hat)\n",
    "gx(np.array([0., 1.]))\n"
   ]
  },
  {
   "cell_type": "code",
   "execution_count": 33,
   "id": "0854aaae-9ef9-4e0b-95eb-3c4ff296ea1a",
   "metadata": {},
   "outputs": [
    {
     "data": {
      "application/vnd.jupyter.widget-view+json": {
       "model_id": "dfbbb3603b2e483a8f2b60f6114ed0bc",
       "version_major": 2,
       "version_minor": 0
      },
      "text/plain": [
       "interactive(children=(IntSlider(value=0, description='l', max=9), IntSlider(value=0, description='n', max=9), …"
      ]
     },
     "execution_count": 33,
     "metadata": {},
     "output_type": "execute_result"
    }
   ],
   "source": [
    "kappa = 10\n",
    "l_max = 10\n",
    "n_iter = 10\n",
    "\n",
    "gs = take(n_iter, vm_doubling(kappa)) \n",
    "xs = np.linspace(0, 2 * np.pi, 200)\n",
    "fig2 = plt.figure(3)\n",
    "\n",
    "def plotfunc3(l, n):\n",
    "    fs = take(n_iter, vm_doubling_proj(kappa, l)) \n",
    "    f = fs[n]\n",
    "    g = gs[n]\n",
    "    fxs = np.real(f(xs))\n",
    "    gxs = g(xs)\n",
    "    plt.cla()\n",
    "    plt.plot(xs, gxs, label='True')\n",
    "    plt.plot(xs, fxs, label=f'Projected, $L = {l}$')\n",
    "    plt.xlabel('$\\\\theta$')\n",
    "    plt.grid(True)\n",
    "    plt.title(f'Doubling map; iteration $n= {n}$')\n",
    "    plt.legend()\n",
    "    plt.autoscale(enable=True, axis='x', tight=True)\n",
    "    plt.show()\n",
    "    fig2.canvas.draw()\n",
    "    \n",
    "    \n",
    "interactive(plotfunc3, l=IntSlider(value=0, min=0, max=l_max - 1),\n",
    "            n=IntSlider(value=0, min=0, max=n_iter - 1)) "
   ]
  },
  {
   "cell_type": "code",
   "execution_count": 42,
   "id": "8be01d3d-203a-41b3-8506-f1c8dc62d440",
   "metadata": {},
   "outputs": [
    {
     "data": {
      "application/vnd.jupyter.widget-view+json": {
       "model_id": "a0ad485123a84621acba923c545e49b9",
       "version_major": 2,
       "version_minor": 0
      },
      "text/plain": [
       "interactive(children=(IntSlider(value=0, description='l', max=9), IntSlider(value=0, description='n', max=9), …"
      ]
     },
     "execution_count": 42,
     "metadata": {},
     "output_type": "execute_result"
    }
   ],
   "source": [
    "kappa = 10\n",
    "l_max = 10\n",
    "n_iter = 10\n",
    "\n",
    "gs = take(n_iter, vm_doubling(kappa)) \n",
    "xs = np.linspace(0, 2 * np.pi, 200)\n",
    "fig2 = plt.figure(3)\n",
    "\n",
    "def plotfunc4(l, n):\n",
    "    fs = take(n_iter, vm_doubling_polar(kappa, l)) \n",
    "    f = fs[n]\n",
    "    g = gs[n]\n",
    "    fxs = np.real(f(xs))\n",
    "    gxs = g(xs)\n",
    "    plt.cla()\n",
    "    plt.plot(xs, gxs, label='True')\n",
    "    plt.plot(xs, fxs, label=f'Projected, $L = {l}$')\n",
    "    plt.xlabel('$\\\\theta$')\n",
    "    plt.grid(True)\n",
    "    plt.title(f'Doubling map; iteration $n= {n}$')\n",
    "    plt.legend()\n",
    "    plt.autoscale(enable=True, axis='x', tight=True)\n",
    "    plt.show()\n",
    "    fig2.canvas.draw()\n",
    "    \n",
    "    \n",
    "interactive(plotfunc4, l=IntSlider(value=0, min=0, max=l_max - 1),\n",
    "            n=IntSlider(value=0, min=0, max=n_iter - 1)) "
   ]
  },
  {
   "cell_type": "markdown",
   "id": "c77e35ab-9305-46be-b99e-22c03c00eb0b",
   "metadata": {},
   "source": [
    "## Torus rotation"
   ]
  },
  {
   "cell_type": "code",
   "execution_count": 10,
   "id": "64c306ec-2105-48c7-a92b-e354cf3d3dc1",
   "metadata": {},
   "outputs": [],
   "source": [
    "def vm2_fourier(kappa: R2, l: I2) -> V:\n",
    "    \"\"\"Fourier coefficients of von Mises density on T2\"\"\"\n",
    "    vm_hat = f2.von_mises_fourier(kappa, loc=(np.pi, np.pi))\n",
    "    f_hat = vm_hat(f2.dual_group(l))\n",
    "    return f_hat\n",
    "    \n",
    "    \n",
    "def vm2_proj(kappa: R2, l: I2) -> Callable[[X2], Y]:\n",
    "    \"\"\"Projected Von Mises probability density.\"\"\"\n",
    "    phi = f2.fourier_basis(l)\n",
    "    f: Callable[[X2], Y] = fun.synthesis(phi, vm2_fourier(kappa, l))\n",
    "    return f"
   ]
  },
  {
   "cell_type": "code",
   "execution_count": 11,
   "id": "13baaf16-cd46-4057-9ec3-6d72abff64f0",
   "metadata": {},
   "outputs": [
    {
     "data": {
      "application/vnd.jupyter.widget-view+json": {
       "model_id": "2394b2f455cc4ef9a18471d128c97033",
       "version_major": 2,
       "version_minor": 0
      },
      "text/plain": [
       "interactive(children=(IntSlider(value=0, description='l1', max=9), IntSlider(value=0, description='l2', max=9)…"
      ]
     },
     "execution_count": 11,
     "metadata": {},
     "output_type": "execute_result"
    }
   ],
   "source": [
    "kappa = (5, 10)\n",
    "l_max = 10\n",
    "n_plt = 201\n",
    "\n",
    "theta = np.linspace(0, 2 * np.pi, n_plt)\n",
    "x1, x2 = np.meshgrid(theta, theta)\n",
    "x = np.concatenate((x1[:-1,:-1,np.newaxis], x2[:-1,:-1,np.newaxis]), axis=2)\n",
    "#x = np.vstack((x1[:-1, :-1].ravel(), x2[:-1, :-1].ravel())).T\n",
    "fig4 = plt.figure(4)\n",
    "\n",
    "def plotfunc4(l1, l2):\n",
    "    f = vm2_proj(kappa, (l1, l2))\n",
    "    fx = np.real(f(x))\n",
    "    plt.cla()\n",
    "    plt.pcolormesh(x1, x2, fx)\n",
    "    #plt.plot(fx[:,0])\n",
    "    plt.xlabel('$x_1$')\n",
    "    plt.ylabel('$x_2$')\n",
    "    plt.title(f\"Projected von Mises density, $(L_1, L_2) = ({l1}, {l2})$\")\n",
    "    plt.show()\n",
    "    fig4.canvas.draw()\n",
    "    \n",
    "\n",
    "interactive(plotfunc4, l1=IntSlider(value=0, min=0, max=l_max - 1), \n",
    "            l2=IntSlider(value=0, min=0, max=l_max - 1)) \n"
   ]
  },
  {
   "cell_type": "code",
   "execution_count": 12,
   "id": "704fc576-be57-4b76-9600-b855e172f0e7",
   "metadata": {},
   "outputs": [
    {
     "name": "stderr",
     "output_type": "stream",
     "text": [
      "<cell>19: error: Incompatible return value type (got \"map[Callable[[X], S_mat]]\", expected \"Iterator[Callable[[ndarray[Any, dtype[floating[Any]]]], ndarray[Any, dtype[floating[Any]]]]]\")\n"
     ]
    }
   ],
   "source": [
    "def u_rot2_fourier(a: R2, l: I2) -> Callable[[V], V]:\n",
    "    \"\"\"Projected Koopman operator for torus rotation in Fourier domain.\"\"\"\n",
    "    spec = f2.rotation_eigs(a)\n",
    "    u = multiply_by(vec, spec(f2.dual_group(l)))\n",
    "    return u\n",
    "    \n",
    "    \n",
    "def vm_rot2_proj(a: R2, kappa: R2, l: I2) -> Iterator[F]:\n",
    "    \"\"\"Orbit of the von Mises density under the projected Koopman operator \n",
    "    associated with the torus rotation.\n",
    "    \n",
    "    \"\"\"\n",
    "    f_hat = vm2_fourier(kappa, l)\n",
    "    u = u_rot2_fourier(a, l)\n",
    "    f_hat_orb = orbit(f_hat, u)\n",
    "    phi = f2.fourier_basis(l)\n",
    "    synth = partial(fun.synthesis, phi)\n",
    "    f_orb  = map(synth, f_hat_orb)\n",
    "    return f_orb"
   ]
  },
  {
   "cell_type": "code",
   "execution_count": 16,
   "id": "1c31e9ec-48b7-4834-acef-46e61019d3f3",
   "metadata": {},
   "outputs": [
    {
     "data": {
      "application/vnd.jupyter.widget-view+json": {
       "model_id": "11b98d28fa544aaaba42b7e155ece754",
       "version_major": 2,
       "version_minor": 0
      },
      "text/plain": [
       "interactive(children=(IntSlider(value=0, description='l1', max=9), IntSlider(value=0, description='l2', max=9)…"
      ]
     },
     "execution_count": 16,
     "metadata": {},
     "output_type": "execute_result"
    }
   ],
   "source": [
    "a_2pi = np.array([np.sqrt(2) / 10, np.sqrt(7) / 10]) \n",
    "kappa = (5, 10)\n",
    "l_max = 10\n",
    "n_iter = 10\n",
    "n_plt = 201\n",
    "\n",
    "a = tuple(2 * np.pi * a_2pi)\n",
    "theta = np.linspace(0, 2*np.pi, n_plt)\n",
    "x1, x2 = np.meshgrid(theta, theta)\n",
    "x = np.concatenate((x1[:-1, :-1, np.newaxis], x2[:-1, :-1, np.newaxis]), \n",
    "                   axis=2)\n",
    "fig5 = plt.figure(5)\n",
    "\n",
    "def plotfunc5(l1, l2, n):\n",
    "    fs = take(n_iter, vm_rot2_proj(a, kappa, (l1, l2))) \n",
    "    f = fs[n]\n",
    "    fx = np.real(f(x))\n",
    "    plt.cla()\n",
    "    plt.pcolormesh(x1, x2, fx)\n",
    "    plt.xlabel('$\\\\theta_1$')\n",
    "    plt.ylabel('$\\\\theta_2$')\n",
    "    plt.title(f\"Projected von Mises density, $(L_1, L_2) = ({l1}, {l2})$, \" \\\n",
    "              + f\"iteration $n = {n}$\")\n",
    "    plt.show()\n",
    "    fig4.canvas.draw()\n",
    "    \n",
    "\n",
    "interactive(plotfunc5, \n",
    "            l1=IntSlider(value=0, min=0, max=l_max - 1), \n",
    "            l2=IntSlider(value=0, min=0, max=l_max - 1), \n",
    "            n=IntSlider(value=0, min=0, max=n_iter - 1)) "
   ]
  },
  {
   "cell_type": "code",
   "execution_count": null,
   "id": "380188f1-787d-4fff-81fb-cdefac30a3b4",
   "metadata": {},
   "outputs": [],
   "source": []
  }
 ],
 "metadata": {
  "kernelspec": {
   "display_name": "Python 3 (ipykernel)",
   "language": "python",
   "name": "python3"
  },
  "language_info": {
   "codemirror_mode": {
    "name": "ipython",
    "version": 3
   },
   "file_extension": ".py",
   "mimetype": "text/x-python",
   "name": "python",
   "nbconvert_exporter": "python",
   "pygments_lexer": "ipython3",
   "version": "3.11.4"
  },
  "widgets": {
   "application/vnd.jupyter.widget-state+json": {
    "state": {},
    "version_major": 2,
    "version_minor": 0
   }
  }
 },
 "nbformat": 4,
 "nbformat_minor": 5
}
